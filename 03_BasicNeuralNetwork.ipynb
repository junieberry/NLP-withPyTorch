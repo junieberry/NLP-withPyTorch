{
  "nbformat": 4,
  "nbformat_minor": 0,
  "metadata": {
    "colab": {
      "name": "03_BasicNeuralNetwork.ipynb",
      "provenance": [],
      "collapsed_sections": [],
      "mount_file_id": "1b9QyA_dp1pmxi6mF0-w0Oe-Vm6Kz7S26",
      "authorship_tag": "ABX9TyPwvmahXbwn474Rd9G1slNt",
      "include_colab_link": true
    },
    "kernelspec": {
      "name": "python3",
      "display_name": "Python 3"
    },
    "language_info": {
      "name": "python"
    }
  },
  "cells": [
    {
      "cell_type": "markdown",
      "metadata": {
        "id": "view-in-github",
        "colab_type": "text"
      },
      "source": [
        "<a href=\"https://colab.research.google.com/github/junieberry/NLP-withPyTorch/blob/main/03_BasicNeuralNetwork.ipynb\" target=\"_parent\"><img src=\"https://colab.research.google.com/assets/colab-badge.svg\" alt=\"Open In Colab\"/></a>"
      ]
    },
    {
      "cell_type": "code",
      "metadata": {
        "colab": {
          "base_uri": "https://localhost:8080/"
        },
        "id": "CuPQ0lyegKdb",
        "outputId": "de027dd8-9d17-4344-bb87-c0f78a2e9241"
      },
      "source": [
        "cd /content/drive/MyDrive/nlp-with-pytorch"
      ],
      "execution_count": 1,
      "outputs": [
        {
          "output_type": "stream",
          "name": "stdout",
          "text": [
            "/content/drive/MyDrive/nlp-with-pytorch\n"
          ]
        }
      ]
    },
    {
      "cell_type": "code",
      "metadata": {
        "colab": {
          "base_uri": "https://localhost:8080/"
        },
        "id": "B8F8t3-cIGMd",
        "outputId": "25f2cb5e-9824-436e-922c-99b607184e25"
      },
      "source": [
        "!pip3 install http://download.pytorch.org/whl/cu80/torch-0.3.0.post4-cp36-cp36m-linux_x86_64.whl\n",
        "!pip3 install torchvision"
      ],
      "execution_count": 2,
      "outputs": [
        {
          "output_type": "stream",
          "name": "stdout",
          "text": [
            "\u001b[31mERROR: torch-0.3.0.post4-cp36-cp36m-linux_x86_64.whl is not a supported wheel on this platform.\u001b[0m\n",
            "Requirement already satisfied: torchvision in /usr/local/lib/python3.7/dist-packages (0.10.0+cu102)\n",
            "Requirement already satisfied: pillow>=5.3.0 in /usr/local/lib/python3.7/dist-packages (from torchvision) (7.1.2)\n",
            "Requirement already satisfied: torch==1.9.0 in /usr/local/lib/python3.7/dist-packages (from torchvision) (1.9.0+cu102)\n",
            "Requirement already satisfied: numpy in /usr/local/lib/python3.7/dist-packages (from torchvision) (1.19.5)\n",
            "Requirement already satisfied: typing-extensions in /usr/local/lib/python3.7/dist-packages (from torch==1.9.0->torchvision) (3.7.4.3)\n"
          ]
        }
      ]
    },
    {
      "cell_type": "code",
      "metadata": {
        "id": "GD53bOWxIJKS"
      },
      "source": [
        "import torch\n",
        "import torch.nn as nn\n",
        "import matplotlib.pyplot as plt\n"
      ],
      "execution_count": 3,
      "outputs": []
    },
    {
      "cell_type": "markdown",
      "metadata": {
        "id": "P9sUMmQbHdJ8"
      },
      "source": [
        "## 3.1 퍼셉트론\n",
        "\n",
        "- 입력 x\n",
        "- 출력 y\n",
        "- 가중치 w\n",
        "- 절편 b\n",
        "- 활성화 함수 f\n",
        "\n",
        "`y=f(wx+b)`\n",
        "\n",
        "이때 wx+b는 affine transform"
      ]
    },
    {
      "cell_type": "code",
      "metadata": {
        "id": "L2DwArA9GzDj"
      },
      "source": [
        "class Perceptron(nn.Module):\n",
        "  \n",
        "  ## input_dim = 입력 차원\n",
        "  def __init__(self, input_dim):\n",
        "    super(Perceptron, self).__init__()\n",
        "\n",
        "    ##nn.Linear은 선형 회귀 모델\n",
        "    ## 가중치, 절편 및 아핀 변환 수행\n",
        "    self.fc1 = nn.Linear(input_dim, 1)\n",
        "  \n",
        "  ## x_in.shape = (batch, feature)\n",
        "  def forward(self, x_in):\n",
        "    return torch.sigmoid(self.fc1(x_in)).squeeze()\n"
      ],
      "execution_count": 4,
      "outputs": []
    },
    {
      "cell_type": "markdown",
      "metadata": {
        "id": "mG6Pg5gxJqnw"
      },
      "source": [
        "## 3.2 활성화 함수"
      ]
    },
    {
      "cell_type": "markdown",
      "metadata": {
        "id": "Bf92wOeNKrek"
      },
      "source": [
        "### 3.2.1 시그모이드\n",
        "\n",
        "- 입력 범위 내에서 빠르게 포화됨\n",
        "- 미분 값이 작아 gradient vanishing 현상\n",
        "- 출력의 중심이 0이 아니어서 gradient 업데이트가 비효율적으로 됨\n",
        "- 보통 마지막에 사용"
      ]
    },
    {
      "cell_type": "code",
      "metadata": {
        "colab": {
          "base_uri": "https://localhost:8080/",
          "height": 321
        },
        "id": "gi7-goMsKzfW",
        "outputId": "622e0ed0-0296-46db-f0a6-cb3633692a0c"
      },
      "source": [
        "x = torch.range(-5, 5, 0.1)\n",
        "y = torch.sigmoid(x)\n",
        "plt.plot(x.numpy(), y.numpy())\n",
        "plt.show()\n"
      ],
      "execution_count": 6,
      "outputs": [
        {
          "output_type": "stream",
          "name": "stderr",
          "text": [
            "/usr/local/lib/python3.7/dist-packages/ipykernel_launcher.py:1: UserWarning: torch.range is deprecated and will be removed in a future release because its behavior is inconsistent with Python's range builtin. Instead, use torch.arange, which produces values in [start, end).\n",
            "  \"\"\"Entry point for launching an IPython kernel.\n"
          ]
        },
        {
          "output_type": "display_data",
          "data": {
            "image/png": "[encoded data removed]",
            "text/plain": [
              "<Figure size 432x288 with 1 Axes>"
            ]
          },
          "metadata": {
            "needs_background": "light"
          }
        }
      ]
    },
    {
      "cell_type": "markdown",
      "metadata": {
        "id": "vIWhUoTSMfDg"
      },
      "source": [
        "## 3.2.2 하이퍼블릭 탄젠트\n",
        "\n",
        "- 시그모이드의 선형 변환\n",
        "- 역시 gradient vanising 현상 발생\n",
        "- 출력의 중심이 0"
      ]
    },
    {
      "cell_type": "code",
      "metadata": {
        "colab": {
          "base_uri": "https://localhost:8080/",
          "height": 321
        },
        "id": "wTsOoEhoMw06",
        "outputId": "2ecbb3f1-4e7b-480d-9e1f-efe0e79a25f5"
      },
      "source": [
        "x = torch.range(-5, 5, 0.1)\n",
        "y = torch.tanh(x)\n",
        "\n",
        "plt.plot(x.numpy(), y.numpy())\n",
        "plt.show()"
      ],
      "execution_count": 7,
      "outputs": [
        {
          "output_type": "stream",
          "name": "stderr",
          "text": [
            "/usr/local/lib/python3.7/dist-packages/ipykernel_launcher.py:1: UserWarning: torch.range is deprecated and will be removed in a future release because its behavior is inconsistent with Python's range builtin. Instead, use torch.arange, which produces values in [start, end).\n",
            "  \"\"\"Entry point for launching an IPython kernel.\n"
          ]
        },
        {
          "output_type": "display_data",
          "data": {
            "image/png": "[encoded data removed]",
            "text/plain": [
              "<Figure size 432x288 with 1 Axes>"
            ]
          },
          "metadata": {
            "needs_background": "light"
          }
        }
      ]
    },
    {
      "cell_type": "markdown",
      "metadata": {
        "id": "_tkN_pfWMmo3"
      },
      "source": [
        "### 3.2.3 렐루\n",
        "\n",
        "- 0보다 작은 값은 무시해서 연산이 빠름\n",
        "- 하지만 값이 음수이면 학습이 안됨\n",
        "- 또한 기울기가 1이어서 gradient vanishing 현상 방지\n",
        "\n",
        "하지만 신경망의 특정 출력이 0이 되면 돌아오지 않아 (dead ReLU) LeakyReLU나 PReLU 같은 해결 방안 탄생"
      ]
    },
    {
      "cell_type": "markdown",
      "metadata": {
        "id": "JL8nutJiNscU"
      },
      "source": [
        "### 3.2.4 Softmax\n",
        "\n",
        "- 모든 출력의 합으로 각 출력을 나눠 이산 확률 분포를 만듦\n",
        "- 분류 작업의 출력 해석에 용이\n",
        "- 보통 categorical cross entropy와 사용"
      ]
    },
    {
      "cell_type": "code",
      "metadata": {
        "colab": {
          "base_uri": "https://localhost:8080/"
        },
        "id": "SZlGgIBBN4Z_",
        "outputId": "78eb6e24-4042-495c-e86b-61b2a6dba1d1"
      },
      "source": [
        "softmax = nn.Softmax(dim = 1)\n",
        "x = torch.randn(1, 3)\n",
        "y = softmax(x)\n",
        "\n",
        "print(x)\n",
        "print(y)\n",
        "print(torch.sum(y, dim=1))"
      ],
      "execution_count": 8,
      "outputs": [
        {
          "output_type": "stream",
          "name": "stdout",
          "text": [
            "tensor([[ 1.4538, -0.3125,  0.8050]])\n",
            "tensor([[0.5904, 0.1009, 0.3086]])\n",
            "tensor([1.])\n"
          ]
        }
      ]
    },
    {
      "cell_type": "markdown",
      "metadata": {
        "id": "hz9XUIRjN3pK"
      },
      "source": [
        "## 3.3 손실 함수"
      ]
    },
    {
      "cell_type": "markdown",
      "metadata": {
        "id": "AaIxKnJXPG1V"
      },
      "source": [
        "### 3.3.1 평균 제급 오차 손실 (mean squared error)\n",
        "\n",
        "- 예측과 타깃값의 차이를 제곱해서 평균낸 값\n",
        "- 출력과 타깃이 연속값인 회귀 문제에서 사용"
      ]
    },
    {
      "cell_type": "code",
      "metadata": {
        "colab": {
          "base_uri": "https://localhost:8080/"
        },
        "id": "v16XGKAMPQHt",
        "outputId": "3f20a1c6-6474-43e5-c559-3d74e7762f1d"
      },
      "source": [
        "mse_loss = nn.MSELoss()\n",
        "outputs = torch.randn(3,5)\n",
        "targets = torch.randn(3,5)\n",
        "\n",
        "loss = mse_loss(outputs, targets)\n",
        "print(loss)"
      ],
      "execution_count": 9,
      "outputs": [
        {
          "output_type": "stream",
          "name": "stdout",
          "text": [
            "tensor(2.7150)\n"
          ]
        }
      ]
    },
    {
      "cell_type": "markdown",
      "metadata": {
        "id": "S1e9EtVsQciy"
      },
      "source": [
        "### 3.3.2 범주형 크로스 엔트로피 (categorical cross-entropy)\n",
        "\n",
        "- 출력을 클래스 소속 확률에 대한 예측으로 이해하는 다중 분류 문제에 사용\n",
        "- 하나의 클래스만 정답인 원-핫 벡터"
      ]
    },
    {
      "cell_type": "code",
      "metadata": {
        "colab": {
          "base_uri": "https://localhost:8080/"
        },
        "id": "Kt3a7gaKQzCb",
        "outputId": "efef3987-49da-47cf-cf8a-8e17df6b03bc"
      },
      "source": [
        "ce_loss = nn.CrossEntropyLoss()\n",
        "output = torch.randn(3, 5)\n",
        "\n",
        "## target은 정답 인덱스로 이루어져 있음\n",
        "target = torch.tensor([1,0,3], dtype=torch.int64)\n",
        "loss = ce_loss(output, target)\n",
        "\n",
        "print(loss)"
      ],
      "execution_count": 10,
      "outputs": [
        {
          "output_type": "stream",
          "name": "stdout",
          "text": [
            "tensor(2.4628)\n"
          ]
        }
      ]
    },
    {
      "cell_type": "markdown",
      "metadata": {
        "id": "YJBWd8IlRjDR"
      },
      "source": [
        "### 3.3.3 이진 크로스 엔트로피 (binary cross entropy)\n",
        "\n",
        "- 이진 분류 분제"
      ]
    },
    {
      "cell_type": "code",
      "metadata": {
        "colab": {
          "base_uri": "https://localhost:8080/"
        },
        "id": "dLm_HThVRpe5",
        "outputId": "59857669-430f-4a83-94d8-1704450db69a"
      },
      "source": [
        "bce_loss = nn.BCELoss()\n",
        "sigmoid = nn.Sigmoid()\n",
        "output = sigmoid(torch.randn(4, 1))\n",
        "target = torch.tensor([1,0,1,0], dtype=torch.float32).view(4,1)\n",
        "\n",
        "loss = bce_loss(output, target)\n",
        "print(loss)"
      ],
      "execution_count": 11,
      "outputs": [
        {
          "output_type": "stream",
          "name": "stdout",
          "text": [
            "tensor(0.7968)\n"
          ]
        }
      ]
    },
    {
      "cell_type": "markdown",
      "metadata": {
        "id": "iVw0IGaUS9_Q"
      },
      "source": [
        "## 3.4 지도 학습 훈련\n",
        "\n",
        "1. 데이터 생성\n",
        "2. 모델 선택\n",
        "3. 결정 경계를 적용해 확률을 클래스로 변환\n",
        "4. 손실 함수 선택\n",
        "5. 옵티마이저 선택\n",
        "6. 그레디언트 기반의 지도 학습\n",
        "\n",
        "**지도학습 과정**\n",
        "\n",
        "손실의 기울기는 모델 파라미터를 얼마나 많이 바꿔야 하는지를 나타냄\n",
        "\n",
        "1. 그레디언트 초기화\n",
        "2. 입력에 대한 출력 계산\n",
        "3. 손실 계산\n",
        "4. 기울기 역전파\n",
        "5. 그레디언트 갱신\n",
        "\n",
        "**배치와 에포크**\n",
        "\n",
        "전체 훈련 데이터셋은 배치로 분할\n",
        "하나의 데이터셋에서 모든 배치를 반복하면 하나의 에포크가 됨\n",
        "\n"
      ]
    },
    {
      "cell_type": "code",
      "metadata": {
        "id": "pXlwixKBULgK"
      },
      "source": [
        "## 각 epoch는 전체 훈련 데이터 사용\n",
        "for epoch_i in range(epochs):\n",
        "  ## epoch 내부는 배치 수행!\n",
        "  for batch_i in range(batches):\n",
        "\n",
        "    ## 1. 데이터 가져오기\n",
        "    x_data, y_target =get_toy_data(batch_size)\n",
        "\n",
        "    ## 2. 그레디언트 초기화\n",
        "    perceptrion.zero_grad()\n",
        "\n",
        "    ## 3. forward 계산\n",
        "    y_pred = perceptron(x_data, apply_sigmoidge=True)\n",
        "\n",
        "    ## 4. 손실 계산\n",
        "    loss = bce_loss(y_pred, y_target)\n",
        "\n",
        "    ## 5. backward 계산\n",
        "    loss.backward()\n",
        "\n",
        "    ## 6. 옵티마이저로 업데이트\n",
        "    optimizer.step()\n"
      ],
      "execution_count": null,
      "outputs": []
    },
    {
      "cell_type": "markdown",
      "metadata": {
        "id": "_EGWC5ujUKJF"
      },
      "source": [
        "## 3.5 부가적인 훈련 개념"
      ]
    },
    {
      "cell_type": "markdown",
      "metadata": {
        "id": "hRs0EfHKbcN-"
      },
      "source": [
        "### 3.5.1 평가 지표\n",
        "\n",
        "모델의 성능을 올바르게 측정하기 위해 필요\n",
        "\n",
        "- 정확도"
      ]
    },
    {
      "cell_type": "markdown",
      "metadata": {
        "id": "tXTjUXLfblT2"
      },
      "source": [
        "### 3.5.2 데이터 분할\n",
        "\n",
        "모델의 성능을 올바르게 측정하기 위해 필요\n",
        "\n",
        "모델의 최종 목표는 일반화!\n",
        "\n",
        "따라서 진짜 모델의 성능은 처음 보는 데이터를 사용해 평가해야함!\n",
        "\n",
        "\n",
        "1. train, validation, test 데이터 셋으로 나누기\n",
        "2. k-fold cross validation 사용"
      ]
    },
    {
      "cell_type": "markdown",
      "metadata": {
        "id": "Bev9ov5ecfQ6"
      },
      "source": [
        "### 3.5.3 Ealry stopping\n",
        "\n",
        "에포크마다 검증 데이터셋에 대한 성능을 기록하고 더 좋아지지 않으면 학습을 멈춤"
      ]
    },
    {
      "cell_type": "markdown",
      "metadata": {
        "id": "QedGTdv_ctu6"
      },
      "source": [
        "### 3.5.5 Regularization\n",
        "\n",
        "오컴의 면도날 이론\n",
        "\n",
        "```\n",
        "간단한 설명이 복잡한 것보다 낫다!\n",
        "```\n",
        "\n",
        "- L2 규제 (옵티마이저의 weight_decay)\n",
        "- L1 규제 (희소한 솔루션)"
      ]
    }
  ]
}