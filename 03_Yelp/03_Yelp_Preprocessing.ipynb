{
  "nbformat": 4,
  "nbformat_minor": 0,
  "metadata": {
    "colab": {
      "name": "03_Yelp_Preprocessing.ipynb",
      "provenance": [],
      "mount_file_id": "1ttxuhCrLymPeWTfGnRmrDF3ZgEwIsHTD",
      "authorship_tag": "ABX9TyMi7UE27kYbvn93NfqF3I+N",
      "include_colab_link": true
    },
    "kernelspec": {
      "name": "python3",
      "display_name": "Python 3"
    },
    "language_info": {
      "name": "python"
    }
  },
  "cells": [
    {
      "cell_type": "markdown",
      "metadata": {
        "id": "view-in-github",
        "colab_type": "text"
      },
      "source": [
        "<a href=\"https://colab.research.google.com/github/junieberry/NLP-withPyTorch/blob/main/03_Yelp/03_Yelp_Preprocessing.ipynb\" target=\"_parent\"><img src=\"https://colab.research.google.com/assets/colab-badge.svg\" alt=\"Open In Colab\"/></a>"
      ]
    },
    {
      "cell_type": "code",
      "metadata": {
        "colab": {
          "base_uri": "https://localhost:8080/"
        },
        "id": "pslFF8TxDFZI",
        "outputId": "d7bcd4eb-3bb5-48a9-f339-3f9abd8847af"
      },
      "source": [
        "!pip3 install http://download.pytorch.org/whl/cu80/torch-0.3.0.post4-cp36-cp36m-linux_x86_64.whl\n",
        "!pip3 install torchvision"
      ],
      "execution_count": 10,
      "outputs": [
        {
          "output_type": "stream",
          "name": "stdout",
          "text": [
            "\u001b[31mERROR: torch-0.3.0.post4-cp36-cp36m-linux_x86_64.whl is not a supported wheel on this platform.\u001b[0m\n",
            "Requirement already satisfied: torchvision in /usr/local/lib/python3.7/dist-packages (0.10.0+cu102)\n",
            "Requirement already satisfied: torch==1.9.0 in /usr/local/lib/python3.7/dist-packages (from torchvision) (1.9.0+cu102)\n",
            "Requirement already satisfied: numpy in /usr/local/lib/python3.7/dist-packages (from torchvision) (1.19.5)\n",
            "Requirement already satisfied: pillow>=5.3.0 in /usr/local/lib/python3.7/dist-packages (from torchvision) (7.1.2)\n",
            "Requirement already satisfied: typing-extensions in /usr/local/lib/python3.7/dist-packages (from torch==1.9.0->torchvision) (3.7.4.3)\n"
          ]
        }
      ]
    },
    {
      "cell_type": "code",
      "metadata": {
        "id": "Bzm-2kSl_3iM"
      },
      "source": [
        "import torch\n",
        "import collections\n",
        "import numpy as np\n",
        "import pandas as pd\n",
        "import re\n",
        "\n",
        "from argparse import Namespace"
      ],
      "execution_count": 11,
      "outputs": []
    },
    {
      "cell_type": "markdown",
      "metadata": {
        "id": "1V3XzTo4AWqk"
      },
      "source": [
        "## 3.6 레스토랑 리뷰 감성 분류하기\n",
        "\n",
        "\n"
      ]
    },
    {
      "cell_type": "markdown",
      "metadata": {
        "id": "8CesAtkMAR96"
      },
      "source": [
        "### 3.6.1 옐트 리뷰 데이터셋\n",
        "\n",
        "- Binary\n",
        "- Light 버전 사용 (빠른 속도, 낮은 정확도)\n",
        "\n",
        "- 훈련, 검증, 테스트로 분리"
      ]
    },
    {
      "cell_type": "markdown",
      "metadata": {
        "id": "L3t2bByAAaQH"
      },
      "source": [
        "### 데이터 가져오기"
      ]
    },
    {
      "cell_type": "code",
      "metadata": {
        "colab": {
          "base_uri": "https://localhost:8080/"
        },
        "id": "MGBMGMlrAa5i",
        "outputId": "3520c1ed-44c8-4180-f470-95cd20b5f4a3"
      },
      "source": [
        "!cd /content/drive/MyDrive/nlp-with-pytorch/chapter_3/data\n",
        "!chmod 755 get-all-data.sh\n",
        "!./get-all-data.sh"
      ],
      "execution_count": 17,
      "outputs": [
        {
          "output_type": "stream",
          "name": "stdout",
          "text": [
            "Trying to fetch /content/drive/MyDrive/nlp-with-pytorch/chapter_3/data/yelp/raw_train.csv\n",
            "12536it [00:05, 2429.59it/s]\n",
            "Trying to fetch /content/drive/MyDrive/nlp-with-pytorch/chapter_3/data/yelp/raw_test.csv\n",
            "848it [00:01, 711.21it/s]\n",
            "Trying to fetch /content/drive/MyDrive/nlp-with-pytorch/chapter_3/data/yelp/reviews_with_splits_lite.csv\n",
            "1217it [00:00, 2726.43it/s]\n"
          ]
        }
      ]
    },
    {
      "cell_type": "markdown",
      "metadata": {
        "id": "55RJj60gvjR4"
      },
      "source": [
        "### 데이터 비율 및 개수 맞추기"
      ]
    },
    {
      "cell_type": "code",
      "metadata": {
        "id": "iVJ2kCT2AcRI"
      },
      "source": [
        "args = Namespace(\n",
        "    raw_train_dataset_csv=\"yelp/raw_train.csv\",\n",
        "    raw_test_dataset_csv=\"yelp/raw_test.csv\",\n",
        "    proportion_subset_of_train=0.1,\n",
        "    train_proportion=0.7,\n",
        "    val_proportion=0.15,\n",
        "    test_proportion=0.15,\n",
        "    output_munged_csv=\"yelp/reviews_with_splits_lite.csv\",\n",
        "    seed=1337\n",
        ")"
      ],
      "execution_count": 41,
      "outputs": []
    },
    {
      "cell_type": "code",
      "metadata": {
        "id": "yA0JBEYGAeua"
      },
      "source": [
        "train_reviews = pd.read_csv(args.raw_train_dataset_csv, header=None, names=['rating', 'review'])"
      ],
      "execution_count": 19,
      "outputs": []
    },
    {
      "cell_type": "code",
      "metadata": {
        "colab": {
          "base_uri": "https://localhost:8080/",
          "height": 419
        },
        "id": "X5ClXTThnvwz",
        "outputId": "570bc125-a7dd-49a5-d879-9d866f90f76e"
      },
      "source": [
        "train_reviews"
      ],
      "execution_count": 32,
      "outputs": [
        {
          "output_type": "execute_result",
          "data": {
            "text/html": [
              "<div>\n",
              "<style scoped>\n",
              "    .dataframe tbody tr th:only-of-type {\n",
              "        vertical-align: middle;\n",
              "    }\n",
              "\n",
              "    .dataframe tbody tr th {\n",
              "        vertical-align: top;\n",
              "    }\n",
              "\n",
              "    .dataframe thead th {\n",
              "        text-align: right;\n",
              "    }\n",
              "</style>\n",
              "<table border=\"1\" class=\"dataframe\">\n",
              "  <thead>\n",
              "    <tr style=\"text-align: right;\">\n",
              "      <th></th>\n",
              "      <th>rating</th>\n",
              "      <th>review</th>\n",
              "    </tr>\n",
              "  </thead>\n",
              "  <tbody>\n",
              "    <tr>\n",
              "      <th>0</th>\n",
              "      <td>1</td>\n",
              "      <td>Unfortunately, the frustration of being Dr. Go...</td>\n",
              "    </tr>\n",
              "    <tr>\n",
              "      <th>1</th>\n",
              "      <td>2</td>\n",
              "      <td>Been going to Dr. Goldberg for over 10 years. ...</td>\n",
              "    </tr>\n",
              "    <tr>\n",
              "      <th>2</th>\n",
              "      <td>1</td>\n",
              "      <td>I don't know what Dr. Goldberg was like before...</td>\n",
              "    </tr>\n",
              "    <tr>\n",
              "      <th>3</th>\n",
              "      <td>1</td>\n",
              "      <td>I'm writing this review to give you a heads up...</td>\n",
              "    </tr>\n",
              "    <tr>\n",
              "      <th>4</th>\n",
              "      <td>2</td>\n",
              "      <td>All the food is great here. But the best thing...</td>\n",
              "    </tr>\n",
              "    <tr>\n",
              "      <th>...</th>\n",
              "      <td>...</td>\n",
              "      <td>...</td>\n",
              "    </tr>\n",
              "    <tr>\n",
              "      <th>559995</th>\n",
              "      <td>2</td>\n",
              "      <td>Ryan was as good as everyone on yelp has claim...</td>\n",
              "    </tr>\n",
              "    <tr>\n",
              "      <th>559996</th>\n",
              "      <td>2</td>\n",
              "      <td>Professional \\nFriendly\\nOn time AND affordabl...</td>\n",
              "    </tr>\n",
              "    <tr>\n",
              "      <th>559997</th>\n",
              "      <td>1</td>\n",
              "      <td>Phone calls always go to voicemail and message...</td>\n",
              "    </tr>\n",
              "    <tr>\n",
              "      <th>559998</th>\n",
              "      <td>1</td>\n",
              "      <td>Looks like all of the good reviews have gone t...</td>\n",
              "    </tr>\n",
              "    <tr>\n",
              "      <th>559999</th>\n",
              "      <td>2</td>\n",
              "      <td>Ryan Rocks! I called him this morning for some...</td>\n",
              "    </tr>\n",
              "  </tbody>\n",
              "</table>\n",
              "<p>560000 rows × 2 columns</p>\n",
              "</div>"
            ],
            "text/plain": [
              "        rating                                             review\n",
              "0            1  Unfortunately, the frustration of being Dr. Go...\n",
              "1            2  Been going to Dr. Goldberg for over 10 years. ...\n",
              "2            1  I don't know what Dr. Goldberg was like before...\n",
              "3            1  I'm writing this review to give you a heads up...\n",
              "4            2  All the food is great here. But the best thing...\n",
              "...        ...                                                ...\n",
              "559995       2  Ryan was as good as everyone on yelp has claim...\n",
              "559996       2  Professional \\nFriendly\\nOn time AND affordabl...\n",
              "559997       1  Phone calls always go to voicemail and message...\n",
              "559998       1  Looks like all of the good reviews have gone t...\n",
              "559999       2  Ryan Rocks! I called him this morning for some...\n",
              "\n",
              "[560000 rows x 2 columns]"
            ]
          },
          "metadata": {},
          "execution_count": 32
        }
      ]
    },
    {
      "cell_type": "code",
      "metadata": {
        "colab": {
          "base_uri": "https://localhost:8080/"
        },
        "id": "xUQ135czvlhg",
        "outputId": "90072cbf-c861-431b-8c98-800d3ccfcbcc"
      },
      "source": [
        "train_reviews.rating.value_counts()"
      ],
      "execution_count": 33,
      "outputs": [
        {
          "output_type": "execute_result",
          "data": {
            "text/plain": [
              "2    280000\n",
              "1    280000\n",
              "Name: rating, dtype: int64"
            ]
          },
          "metadata": {},
          "execution_count": 33
        }
      ]
    },
    {
      "cell_type": "code",
      "metadata": {
        "id": "wrh4j1UWAhXE"
      },
      "source": [
        "## 리뷰 클래스 비율 동일하게 하기 위해서 rating 별로 review 들을 구분해둠\n",
        "by_rating = collections.defaultdict(list)\n",
        "for _,row in train_reviews.iterrows():\n",
        "  by_rating[row.rating].append(row.to_dict())\n",
        "\n",
        "review_subset = []\n",
        "\n",
        "## 우리는 10%만 사용할거니까 args.proportion_subset_of_train을 사용해서 잘라줌\n",
        "for _, item_list in sorted(by_rating.items()):\n",
        "  n_total = len(item_list)\n",
        "  n_subset = int(args.proportion_subset_of_train*n_total)\n",
        "  review_subset.extend(item_list[:n_subset])\n",
        "\n",
        "review_subset = pd.DataFrame(review_subset)"
      ],
      "execution_count": 30,
      "outputs": []
    },
    {
      "cell_type": "code",
      "metadata": {
        "colab": {
          "base_uri": "https://localhost:8080/",
          "height": 419
        },
        "id": "-7SLcL-Tu4lW",
        "outputId": "2df891cf-cf5b-4c6c-bb6b-2621889f0ab0"
      },
      "source": [
        "review_subset"
      ],
      "execution_count": 29,
      "outputs": [
        {
          "output_type": "execute_result",
          "data": {
            "text/html": [
              "<div>\n",
              "<style scoped>\n",
              "    .dataframe tbody tr th:only-of-type {\n",
              "        vertical-align: middle;\n",
              "    }\n",
              "\n",
              "    .dataframe tbody tr th {\n",
              "        vertical-align: top;\n",
              "    }\n",
              "\n",
              "    .dataframe thead th {\n",
              "        text-align: right;\n",
              "    }\n",
              "</style>\n",
              "<table border=\"1\" class=\"dataframe\">\n",
              "  <thead>\n",
              "    <tr style=\"text-align: right;\">\n",
              "      <th></th>\n",
              "      <th>rating</th>\n",
              "      <th>review</th>\n",
              "    </tr>\n",
              "  </thead>\n",
              "  <tbody>\n",
              "    <tr>\n",
              "      <th>0</th>\n",
              "      <td>1</td>\n",
              "      <td>Unfortunately, the frustration of being Dr. Go...</td>\n",
              "    </tr>\n",
              "    <tr>\n",
              "      <th>1</th>\n",
              "      <td>1</td>\n",
              "      <td>I don't know what Dr. Goldberg was like before...</td>\n",
              "    </tr>\n",
              "    <tr>\n",
              "      <th>2</th>\n",
              "      <td>1</td>\n",
              "      <td>I'm writing this review to give you a heads up...</td>\n",
              "    </tr>\n",
              "    <tr>\n",
              "      <th>3</th>\n",
              "      <td>1</td>\n",
              "      <td>Wing sauce is like water. Pretty much a lot of...</td>\n",
              "    </tr>\n",
              "    <tr>\n",
              "      <th>4</th>\n",
              "      <td>1</td>\n",
              "      <td>Owning a driving range inside the city limits ...</td>\n",
              "    </tr>\n",
              "    <tr>\n",
              "      <th>...</th>\n",
              "      <td>...</td>\n",
              "      <td>...</td>\n",
              "    </tr>\n",
              "    <tr>\n",
              "      <th>55995</th>\n",
              "      <td>2</td>\n",
              "      <td>I am not really an arts and crafts kind of guy...</td>\n",
              "    </tr>\n",
              "    <tr>\n",
              "      <th>55996</th>\n",
              "      <td>2</td>\n",
              "      <td>i absolutely love michael's! i used to scrapbo...</td>\n",
              "    </tr>\n",
              "    <tr>\n",
              "      <th>55997</th>\n",
              "      <td>2</td>\n",
              "      <td>The fact that I can generally get whatever I w...</td>\n",
              "    </tr>\n",
              "    <tr>\n",
              "      <th>55998</th>\n",
              "      <td>2</td>\n",
              "      <td>I've been frequenting Michaels lately because ...</td>\n",
              "    </tr>\n",
              "    <tr>\n",
              "      <th>55999</th>\n",
              "      <td>2</td>\n",
              "      <td>Narrow aisles and not much for home decor like...</td>\n",
              "    </tr>\n",
              "  </tbody>\n",
              "</table>\n",
              "<p>56000 rows × 2 columns</p>\n",
              "</div>"
            ],
            "text/plain": [
              "       rating                                             review\n",
              "0           1  Unfortunately, the frustration of being Dr. Go...\n",
              "1           1  I don't know what Dr. Goldberg was like before...\n",
              "2           1  I'm writing this review to give you a heads up...\n",
              "3           1  Wing sauce is like water. Pretty much a lot of...\n",
              "4           1  Owning a driving range inside the city limits ...\n",
              "...       ...                                                ...\n",
              "55995       2  I am not really an arts and crafts kind of guy...\n",
              "55996       2  i absolutely love michael's! i used to scrapbo...\n",
              "55997       2  The fact that I can generally get whatever I w...\n",
              "55998       2  I've been frequenting Michaels lately because ...\n",
              "55999       2  Narrow aisles and not much for home decor like...\n",
              "\n",
              "[56000 rows x 2 columns]"
            ]
          },
          "metadata": {},
          "execution_count": 29
        }
      ]
    },
    {
      "cell_type": "code",
      "metadata": {
        "colab": {
          "base_uri": "https://localhost:8080/"
        },
        "id": "bQLAlaEZuDvL",
        "outputId": "e7081ed8-ec7e-4cf7-e0fb-468725da8392"
      },
      "source": [
        "review_subset.rating.value_counts()"
      ],
      "execution_count": 31,
      "outputs": [
        {
          "output_type": "execute_result",
          "data": {
            "text/plain": [
              "2    28000\n",
              "1    28000\n",
              "Name: rating, dtype: int64"
            ]
          },
          "metadata": {},
          "execution_count": 31
        }
      ]
    },
    {
      "cell_type": "code",
      "metadata": {
        "colab": {
          "base_uri": "https://localhost:8080/"
        },
        "id": "JuvPB-aXuJbJ",
        "outputId": "1ee70a7f-9391-4e69-e3e9-d14d366601ab"
      },
      "source": [
        "set(review_subset.rating)"
      ],
      "execution_count": 27,
      "outputs": [
        {
          "output_type": "execute_result",
          "data": {
            "text/plain": [
              "{1, 2}"
            ]
          },
          "metadata": {},
          "execution_count": 27
        }
      ]
    },
    {
      "cell_type": "markdown",
      "metadata": {
        "id": "NfZ4W27vAgPX"
      },
      "source": [
        "### 훈련, 검증, 테스트 세트"
      ]
    },
    {
      "cell_type": "code",
      "metadata": {
        "colab": {
          "base_uri": "https://localhost:8080/"
        },
        "id": "Ef6lMnMAuMu7",
        "outputId": "5ed6c529-7367-4d34-b0b7-44d3a24fa691"
      },
      "source": [
        "## 이것도 리뷰 클래스 별로 구분하기 위해 rating 별로 review 구분\n",
        "by_rating = collections.defaultdict(list)\n",
        "for _,row in train_reviews.iterrows():\n",
        "  by_rating[row.rating].append(row.to_dict())\n",
        "\n",
        "\n",
        "final_list = []\n",
        "## 랜덤 시드를 정해주면 다음에 똑같이 할 수 있음!\n",
        "np.random.seed(args.seed)\n",
        "\n",
        "for item, item_list in sorted(by_rating.items()):\n",
        "  print(item)\n",
        "  print(item_list)\n",
        "  np.random.shuffle(item_list)\n",
        "\n",
        "  n_total = len(item_list)\n",
        "  n_train = int(args.train_proportion * n_total)\n",
        "  n_val = int(args.val_proportion * n_total)\n",
        "  n_test = int(args.test_proportion * n_total)\n",
        "\n",
        "  ## 어떤 데이터 셋인지 정보 추가\n",
        "  for item in item_list[:n_train]:\n",
        "    item['split'] = 'train'\n",
        "    \n",
        "  for item in item_list[n_train:n_train+n_val]:\n",
        "    item['split'] = 'val'\n",
        "        \n",
        "  for item in item_list[n_train+n_val:n_train+n_val+n_test]:\n",
        "      item['split'] = 'test'\n",
        "\n",
        "  final_list.extend(item_list)"
      ],
      "execution_count": 34,
      "outputs": [
        {
          "output_type": "stream",
          "name": "stderr",
          "text": [
            "IOPub data rate exceeded.\n",
            "The notebook server will temporarily stop sending output\n",
            "to the client in order to avoid crashing it.\n",
            "To change this limit, set the config variable\n",
            "`--NotebookApp.iopub_data_rate_limit`.\n",
            "\n",
            "Current values:\n",
            "NotebookApp.iopub_data_rate_limit=1000000.0 (bytes/sec)\n",
            "NotebookApp.rate_limit_window=3.0 (secs)\n",
            "\n"
          ]
        },
        {
          "output_type": "stream",
          "name": "stdout",
          "text": [
            "2\n"
          ]
        },
        {
          "output_type": "stream",
          "name": "stderr",
          "text": [
            "IOPub data rate exceeded.\n",
            "The notebook server will temporarily stop sending output\n",
            "to the client in order to avoid crashing it.\n",
            "To change this limit, set the config variable\n",
            "`--NotebookApp.iopub_data_rate_limit`.\n",
            "\n",
            "Current values:\n",
            "NotebookApp.iopub_data_rate_limit=1000000.0 (bytes/sec)\n",
            "NotebookApp.rate_limit_window=3.0 (secs)\n",
            "\n"
          ]
        }
      ]
    },
    {
      "cell_type": "code",
      "metadata": {
        "colab": {
          "base_uri": "https://localhost:8080/"
        },
        "id": "T92Z3Y3oxlon",
        "outputId": "40c4ea30-8b59-46a2-d389-fd6fca113f10"
      },
      "source": [
        "final_reviews = pd.DataFrame(final_list)\n",
        "final_reviews.split.value_counts()"
      ],
      "execution_count": 35,
      "outputs": [
        {
          "output_type": "execute_result",
          "data": {
            "text/plain": [
              "train    392000\n",
              "test      84000\n",
              "val       84000\n",
              "Name: split, dtype: int64"
            ]
          },
          "metadata": {},
          "execution_count": 35
        }
      ]
    },
    {
      "cell_type": "markdown",
      "metadata": {
        "id": "tpVeKcUlyNcn"
      },
      "source": [
        "### 데이터 전처리\n",
        "\n",
        "구두점 기호 앞뒤에 공백\n",
        "\n",
        "구두점 아닌 기호 제거"
      ]
    },
    {
      "cell_type": "code",
      "metadata": {
        "id": "iXDW0Kl8yMu_"
      },
      "source": [
        "def preprocess_text(text):\n",
        "    text = text.lower()\n",
        "    text = re.sub(r\"([.,!?])\", r\" \\1 \", text)\n",
        "    text = re.sub(r\"[^a-zA-Z.,!?]+\", r\" \", text)\n",
        "    return text\n",
        "    \n",
        "final_reviews.review = final_reviews.review.apply(preprocess_text)"
      ],
      "execution_count": 36,
      "outputs": []
    },
    {
      "cell_type": "code",
      "metadata": {
        "id": "pHZbJwn-yXlH"
      },
      "source": [
        "final_reviews['rating'] = final_reviews.rating.apply({1: 'negative', 2: 'positive'}.get)"
      ],
      "execution_count": 37,
      "outputs": []
    },
    {
      "cell_type": "code",
      "metadata": {
        "colab": {
          "base_uri": "https://localhost:8080/",
          "height": 419
        },
        "id": "pMl60eUuydxJ",
        "outputId": "aad5e4cb-5142-43f0-af55-893f8a7bfa24"
      },
      "source": [
        "final_reviews"
      ],
      "execution_count": 39,
      "outputs": [
        {
          "output_type": "execute_result",
          "data": {
            "text/html": [
              "<div>\n",
              "<style scoped>\n",
              "    .dataframe tbody tr th:only-of-type {\n",
              "        vertical-align: middle;\n",
              "    }\n",
              "\n",
              "    .dataframe tbody tr th {\n",
              "        vertical-align: top;\n",
              "    }\n",
              "\n",
              "    .dataframe thead th {\n",
              "        text-align: right;\n",
              "    }\n",
              "</style>\n",
              "<table border=\"1\" class=\"dataframe\">\n",
              "  <thead>\n",
              "    <tr style=\"text-align: right;\">\n",
              "      <th></th>\n",
              "      <th>rating</th>\n",
              "      <th>review</th>\n",
              "      <th>split</th>\n",
              "    </tr>\n",
              "  </thead>\n",
              "  <tbody>\n",
              "    <tr>\n",
              "      <th>0</th>\n",
              "      <td>negative</td>\n",
              "      <td>the entrance was the impressive thing about th...</td>\n",
              "      <td>train</td>\n",
              "    </tr>\n",
              "    <tr>\n",
              "      <th>1</th>\n",
              "      <td>negative</td>\n",
              "      <td>i m a mclover , and i had no problem nwith the...</td>\n",
              "      <td>train</td>\n",
              "    </tr>\n",
              "    <tr>\n",
              "      <th>2</th>\n",
              "      <td>negative</td>\n",
              "      <td>less than good here , not terrible , but i see...</td>\n",
              "      <td>train</td>\n",
              "    </tr>\n",
              "    <tr>\n",
              "      <th>3</th>\n",
              "      <td>negative</td>\n",
              "      <td>i don t know if i can ever bring myself to go ...</td>\n",
              "      <td>train</td>\n",
              "    </tr>\n",
              "    <tr>\n",
              "      <th>4</th>\n",
              "      <td>negative</td>\n",
              "      <td>food was ok good but the service was terrible ...</td>\n",
              "      <td>train</td>\n",
              "    </tr>\n",
              "    <tr>\n",
              "      <th>...</th>\n",
              "      <td>...</td>\n",
              "      <td>...</td>\n",
              "      <td>...</td>\n",
              "    </tr>\n",
              "    <tr>\n",
              "      <th>559995</th>\n",
              "      <td>positive</td>\n",
              "      <td>i was in japan for two months almost years ago...</td>\n",
              "      <td>test</td>\n",
              "    </tr>\n",
              "    <tr>\n",
              "      <th>559996</th>\n",
              "      <td>positive</td>\n",
              "      <td>quick service ! clean .</td>\n",
              "      <td>test</td>\n",
              "    </tr>\n",
              "    <tr>\n",
              "      <th>559997</th>\n",
              "      <td>positive</td>\n",
              "      <td>we looked in at jet , which had a line that wa...</td>\n",
              "      <td>test</td>\n",
              "    </tr>\n",
              "    <tr>\n",
              "      <th>559998</th>\n",
              "      <td>positive</td>\n",
              "      <td>i m coming up on living here a month now and i...</td>\n",
              "      <td>test</td>\n",
              "    </tr>\n",
              "    <tr>\n",
              "      <th>559999</th>\n",
              "      <td>positive</td>\n",
              "      <td>i love a barber where i can walk in and get im...</td>\n",
              "      <td>test</td>\n",
              "    </tr>\n",
              "  </tbody>\n",
              "</table>\n",
              "<p>560000 rows × 3 columns</p>\n",
              "</div>"
            ],
            "text/plain": [
              "          rating                                             review  split\n",
              "0       negative  the entrance was the impressive thing about th...  train\n",
              "1       negative  i m a mclover , and i had no problem nwith the...  train\n",
              "2       negative  less than good here , not terrible , but i see...  train\n",
              "3       negative  i don t know if i can ever bring myself to go ...  train\n",
              "4       negative  food was ok good but the service was terrible ...  train\n",
              "...          ...                                                ...    ...\n",
              "559995  positive  i was in japan for two months almost years ago...   test\n",
              "559996  positive                           quick service ! clean .    test\n",
              "559997  positive  we looked in at jet , which had a line that wa...   test\n",
              "559998  positive  i m coming up on living here a month now and i...   test\n",
              "559999  positive  i love a barber where i can walk in and get im...   test\n",
              "\n",
              "[560000 rows x 3 columns]"
            ]
          },
          "metadata": {},
          "execution_count": 39
        }
      ]
    },
    {
      "cell_type": "code",
      "metadata": {
        "id": "uCJVB6-syzgf"
      },
      "source": [
        "final_reviews.to_csv(args.output_munged_csv, index=False)"
      ],
      "execution_count": 42,
      "outputs": []
    }
  ]
}