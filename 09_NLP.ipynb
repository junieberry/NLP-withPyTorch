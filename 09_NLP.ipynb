{
  "nbformat": 4,
  "nbformat_minor": 0,
  "metadata": {
    "colab": {
      "name": "09_NLP.ipynb",
      "provenance": [],
      "collapsed_sections": [],
      "authorship_tag": "ABX9TyO4K0ROhgPQ99o39KT6SIBQ",
      "include_colab_link": true
    },
    "kernelspec": {
      "name": "python3",
      "display_name": "Python 3"
    },
    "language_info": {
      "name": "python"
    }
  },
  "cells": [
    {
      "cell_type": "markdown",
      "metadata": {
        "id": "view-in-github",
        "colab_type": "text"
      },
      "source": [
        "<a href=\"https://colab.research.google.com/github/junieberry/NLP-withPyTorch/blob/main/09_NLP.ipynb\" target=\"_parent\"><img src=\"https://colab.research.google.com/assets/colab-badge.svg\" alt=\"Open In Colab\"/></a>"
      ]
    },
    {
      "cell_type": "markdown",
      "metadata": {
        "id": "sY6cXB7KC0dU"
      },
      "source": [
        "## 9.1 지금까지 배운 내용\n",
        "\n",
        "2장 : NLP 기본 개념, 언어학\n",
        "3장 : 활성화 함수, 손실 함수, 지도 학습을 위한 그레디언트 기반 최적화, 훈련-평가 반복\n",
        "4장 : 피드 포워드 신경망 (n-그램과 유사한 관계를 감지할 수 있지만 효율적이지 않은 MLP, 파라미터를 공유할 수 있어 효율적인 CNN)\n",
        "6장~ : 엘만 RNN, 게이트가 있는 LSTM, GRU, 인코더-디코더 모델, 시퀀스-투-시퀀스 모델\n"
      ]
    },
    {
      "cell_type": "markdown",
      "metadata": {
        "id": "xrkx8K4MFO-d"
      },
      "source": [
        "## 9.2 전통적인 NLP 주제"
      ]
    },
    {
      "cell_type": "markdown",
      "metadata": {
        "id": "ILm9OIU7FSIk"
      },
      "source": [
        "### 9.2.1 대화 및 상호작용 시스템\n",
        "\n",
        "애플의 시리, 구글의 어시스턴트..\n",
        "\n",
        "- 개방형 혹은 폐쇄형\n",
        "- 대화 행위, 대화 문맥, 대화 상태를 어떻게 모델링하는가?\n",
        "- 멀티모달 대화 시스템을 어떻게 만드는가?\n",
        "- 어떻게 시스템이 사용자의 의도를 인식하는가?\n",
        "- 어떻게 더 인간적인 응답을 만드는가?"
      ]
    },
    {
      "cell_type": "markdown",
      "metadata": {
        "id": "VKrmqTbFF3Dg"
      },
      "source": [
        "### 9.2.2 담화 분석\n",
        "\n",
        "**텍스트 문서의 부분-전체 특징을 이해하는 것**\n",
        "\n",
        "- 그것은 이것 **이전**에 이루어 졌다.\n",
        "- 사과는 빨갛기 **때문에** 맛있다.\n",
        "\n",
        "<br>\n",
        "\n",
        "**대용어 복원, 환유 감지**\n",
        "\n",
        "대용어 == 대명사가 가르치는 대상\n",
        "\n",
        "    The dog chewed the bone. It was delicious.\n",
        "    The dog chewed the bone. It was a hot day.\n",
        "\n",
        "\n",
        "환유어 == 개념의 인접 또는 근접에 따라 단어의 의미를 확장\n"
      ]
    },
    {
      "cell_type": "markdown",
      "metadata": {
        "id": "YPmFjz-pHAeI"
      },
      "source": [
        "### 9.2.3 정보 추출과 텍스트 마이닝\n",
        "\n",
        "텍스트에서 정보를 추출\n",
        "\n",
        "- 텍스트에서 개체명, 이벤트, 관계를 추출하는 방법\n",
        "- 텍스트에서 언급된 개체를 지식 데이터베이스에 매핑하는 방법\n",
        "- 지식 베이스를 구축하고 관리하는 방법"
      ]
    },
    {
      "cell_type": "markdown",
      "metadata": {
        "id": "8JkpHI1LHfgS"
      },
      "source": [
        "### 9.2.4 문서 분석과 문서 추출\n",
        "\n",
        "- 문서에서 주제 추출 (토픽 모델링)\n",
        "- 문서를 지능적으로 인덱싱하고 검색\n",
        "- 검색 쿼리 이해\n",
        "- 문서 요약"
      ]
    },
    {
      "cell_type": "markdown",
      "metadata": {
        "id": "2sYyCLJLHpMQ"
      },
      "source": [
        "## 9.3 최신 NLP 모델\n",
        "\n",
        "**모델의 조합**\n",
        "\n",
        "MLP,CNN, Sequence, Sequence-to-Sequence, Attention 등을 조합\n",
        "\n",
        "**시퀀스를 위한 합성곱**\n",
        "\n",
        "합성곱 연산으로만 시퀀스 모델링하려는 경향\n",
        "\n",
        "**Attention is all you need**\n",
        "합성곱을 어텐션 메커니즘으로 변경\n",
        "\n",
        "**전이 학습**\n",
        "\n",
        "**강화 학습**\n"
      ]
    },
    {
      "cell_type": "markdown",
      "metadata": {
        "id": "KyhtFeV0I8i7"
      },
      "source": [
        "## 9.4 NLP 시스템을 위한 디자인 패턴\n",
        "\n",
        "**온라인 시스템 vs 오프라인 시스템**\n",
        "\n",
        "온라인에서는 모델 예측이 거의 실시간으로 이루어짐\n",
        "\n",
        "\n",
        "??\n",
        "\n",
        "**상호작용 시스템 vs 비상효작용 시스템**\n",
        "\n",
        "대부분 모델이 독자적으로 예측하지만 때론 예측 과정에 사람이 개입하기도 함\n",
        "\n",
        "**유니모달 시스템 vs 멀티모달 시스템**\n",
        "\n",
        "e.g 자막 시스템에 오디오와 비디오를 동시에 활용\n",
        "\n",
        "멀티모달 시스템은 구축과 배포에 비용이 많이 들지만 유니모달에서는 얻을 수 없는 신호를 제공\n",
        "\n",
        "**엔드 투 엔드 시스템 vs 분할 시스템**\n",
        "\n",
        "엔드 투 엔드 설계\n",
        "- 파이프라인 하나\n",
        "- 구현과 배포의 복잡도가 낮고 코드 라인 수가 적음\n",
        "\n",
        "분할 시스템\n",
        "- NLP 작업 부분 작업으로 최적화\n",
        "- 모듈화할 수 있고 특정 이슈 수정하기 쉬움\n",
        "- 기술 부채 발생\n",
        "\n",
        "**폐쇄형 도메인 시스템 vs 개방형 도메인 시스템**\n",
        "\n",
        "**단일 언어 시스템 vs 다중 언어 시스템**"
      ]
    }
  ]
}