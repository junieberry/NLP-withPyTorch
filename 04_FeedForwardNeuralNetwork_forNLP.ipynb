{
  "nbformat": 4,
  "nbformat_minor": 0,
  "metadata": {
    "colab": {
      "name": "04_FeedForwardNeuralNetwork_forNLP.ipynb",
      "provenance": [],
      "authorship_tag": "ABX9TyNn1mTvf4gz49DW4XnVjcii",
      "include_colab_link": true
    },
    "kernelspec": {
      "name": "python3",
      "display_name": "Python 3"
    },
    "language_info": {
      "name": "python"
    }
  },
  "cells": [
    {
      "cell_type": "markdown",
      "metadata": {
        "id": "view-in-github",
        "colab_type": "text"
      },
      "source": [
        "<a href=\"https://colab.research.google.com/github/junieberry/NLP-withPyTorch/blob/main/04_FeedForwardNeuralNetwork_forNLP.ipynb\" target=\"_parent\"><img src=\"https://colab.research.google.com/assets/colab-badge.svg\" alt=\"Open In Colab\"/></a>"
      ]
    },
    {
      "cell_type": "markdown",
      "metadata": {
        "id": "LTyy4wUuJmvN"
      },
      "source": [
        "keyword == feed-forward network, MLP, CNN"
      ]
    },
    {
      "cell_type": "code",
      "metadata": {
        "colab": {
          "base_uri": "https://localhost:8080/"
        },
        "id": "6zQqpyk4PWZm",
        "outputId": "1545f5ae-c613-4a6b-f129-ae7c44b84d18"
      },
      "source": [
        "!pip3 install http://download.pytorch.org/whl/cu80/torch-0.3.0.post4-cp36-cp36m-linux_x86_64.whl\n",
        "!pip3 install torchvision"
      ],
      "execution_count": 1,
      "outputs": [
        {
          "output_type": "stream",
          "name": "stdout",
          "text": [
            "\u001b[31mERROR: torch-0.3.0.post4-cp36-cp36m-linux_x86_64.whl is not a supported wheel on this platform.\u001b[0m\n",
            "Requirement already satisfied: torchvision in /usr/local/lib/python3.7/dist-packages (0.10.0+cu102)\n",
            "Requirement already satisfied: numpy in /usr/local/lib/python3.7/dist-packages (from torchvision) (1.19.5)\n",
            "Requirement already satisfied: pillow>=5.3.0 in /usr/local/lib/python3.7/dist-packages (from torchvision) (7.1.2)\n",
            "Requirement already satisfied: torch==1.9.0 in /usr/local/lib/python3.7/dist-packages (from torchvision) (1.9.0+cu102)\n",
            "Requirement already satisfied: typing-extensions in /usr/local/lib/python3.7/dist-packages (from torch==1.9.0->torchvision) (3.7.4.3)\n"
          ]
        }
      ]
    },
    {
      "cell_type": "code",
      "metadata": {
        "id": "5xtpUqwmPRDI"
      },
      "source": [
        "\n",
        "import torch\n",
        "import torch.nn as nn\n",
        "import torch.nn.functional as F\n"
      ],
      "execution_count": 2,
      "outputs": []
    },
    {
      "cell_type": "markdown",
      "metadata": {
        "id": "5gm4LRHdJxG8"
      },
      "source": [
        "## 4.1 다층 퍼셉트론\n",
        "\n",
        "**퍼센트론**은\n",
        "\n",
        "- 입력으로 데이터 벡터를 받아 출력값 하나를 계산\n",
        "- 선형적\n",
        "\n",
        "**MLP**는\n",
        "\n",
        "- 많은 퍼셉트론이 있어 벡터를 출력\n",
        "- 비선형적\n",
        "\n"
      ]
    },
    {
      "cell_type": "markdown",
      "metadata": {
        "id": "8V_KOAVTOiMp"
      },
      "source": [
        "### 4.1.1 XOR\n",
        "\n",
        "퍼셉트론 하나로는 구현 불가\n"
      ]
    },
    {
      "cell_type": "markdown",
      "metadata": {
        "id": "A7HQmKF-Oxcr"
      },
      "source": [
        "### 4.1.2 파이토치로 MLP 구현하기\n",
        "\n",
        "- Linear 클래스 두개로 구현 (fc1, fc2)"
      ]
    },
    {
      "cell_type": "code",
      "metadata": {
        "id": "nUeeysa2iBRM"
      },
      "source": [
        "class MLP(nn.Module):\n",
        "  def __init__(self, input_dim, hidden_dim, output_dim):\n",
        "    super(MLP, self).__init__()\n",
        "    self.fc1 = nn.Linear(input_dim, hidden_dim)\n",
        "    self.fc2 = nn.Linear(hidden_dim, output_dim)\n",
        "  \n",
        "  def forward(self, x_in, apply_softmax = False):\n",
        "\n",
        "    middle = F.relu(self.fc1(x_in))\n",
        "    output = self.fc2(middle)\n",
        "\n",
        "    if apply_softmax:\n",
        "      output = F.softmax(output, dim=1)\n",
        "    \n",
        "    return output\n"
      ],
      "execution_count": 3,
      "outputs": []
    },
    {
      "cell_type": "code",
      "metadata": {
        "colab": {
          "base_uri": "https://localhost:8080/"
        },
        "id": "fwpsb1F8QBnw",
        "outputId": "509ee00a-fe41-4d98-91ad-4a091d8bcc3a"
      },
      "source": [
        "## MLP 객체 생성\n",
        "\n",
        "\n",
        "batch_size = 2\n",
        "input_dim = 3\n",
        "hidden_dim = 100\n",
        "output_dim = 4\n",
        "\n",
        "# 모델 생성\n",
        "mlp = MLP(input_dim, hidden_dim, output_dim)\n",
        "print(mlp)"
      ],
      "execution_count": 4,
      "outputs": [
        {
          "output_type": "stream",
          "name": "stdout",
          "text": [
            "MLP(\n",
            "  (fc1): Linear(in_features=3, out_features=100, bias=True)\n",
            "  (fc2): Linear(in_features=100, out_features=4, bias=True)\n",
            ")\n"
          ]
        }
      ]
    },
    {
      "cell_type": "markdown",
      "metadata": {
        "id": "jIE87s6Wv1GS"
      },
      "source": [
        "### 4.2.6 MLP regularization : 가중치 규제와 구조적 규제\n",
        "\n",
        "가중치 규제 : L1, L2\n",
        "\n",
        "구조적 규제 : Dropout\n",
        "\n",
        "Dropdout은 훈련 시에만 적용해야함"
      ]
    },
    {
      "cell_type": "markdown",
      "metadata": {
        "id": "syfInoNKQv4d"
      },
      "source": [
        "## 4.3 합성곱 신경망\n",
        "\n",
        "MLP는 순차 패턴을 잘 감지하지는 못한다. ex) 성씨에서 국가 정보를 담은 부분\n",
        "\n",
        "따라서 공간상의 부분 구조를 잘 감지하는 CNN 사용!"
      ]
    },
    {
      "cell_type": "markdown",
      "metadata": {
        "id": "EkYvPd6ZwOkr"
      },
      "source": [
        "### 4.3.1 CNN 하이퍼파라미터\n",
        "\n",
        "커널 사이즈. stride, padding, dilation\n",
        "\n",
        "**커널의 합성곱**\n",
        "\n",
        "- 커널 차원\n",
        "\n",
        "  합성곱의 차원은 1차원, 2차원, 3차원 합성곱이 가능\n",
        "  \n",
        "  1차원 합성곱은 time step에 특성 벡터가 있는 시계열에 잘 맞는다.\n",
        "\n",
        "  시퀀스 패턴을 따라 패턴을 학습할 수 있다. (대부분 1차원)\n",
        "\n",
        "  2차원 합성곱은 이미지 처리 분야에서 인기가 많다!\n",
        "\n",
        "- Channel\n",
        "\n",
        "  텍스트 문서의 픽셀이 단어라면 채널 개수는 어휘 사전의 크기\n",
        "\n",
        "-  커널 크기\n",
        "\n",
        "  커널 크기를 늘리면 출력의 크기가 줄어든다\n",
        "\n",
        "- stride\n",
        "\n",
        "  커널간의 스텝 크기 제어\n",
        "  \n",
        "  스트라이드가 커널 크기와 같으면 커널 연산이 겹치지 않는다.\n",
        "\n",
        "  스트라이드를 높이면 정보를 요약할 수 있따.\n",
        "\n",
        "- padding\n",
        "\n",
        "- dilation\n",
        "\n",
        "  다일레이션을 늘리면 커널의 원소 사이에 공간이 늘어난다."
      ]
    },
    {
      "cell_type": "markdown",
      "metadata": {
        "id": "aScncvKfo8un"
      },
      "source": [
        "### 4.3.2 파이토치로 CNN 구현하기"
      ]
    },
    {
      "cell_type": "markdown",
      "metadata": {
        "id": "CJYbfR9BpF1f"
      },
      "source": [
        "## 4.5 CNN에 관한 추가 내용"
      ]
    },
    {
      "cell_type": "markdown",
      "metadata": {
        "id": "yI9xiv-npJRD"
      },
      "source": [
        "### 4.5.1 풀링\n",
        "\n",
        "고차원 특성 맵을 저차원 특성 맵으로 요약\n",
        "\n",
        "합성곱 연산 자체가 중복되기 때문에 특성 또한 중복될 수 있음\n",
        "\n",
        "- sum pooling\n",
        "- average pooling\n",
        "- max pooling\n",
        "\n",
        "약하고 크기가 큰 피쳐맵을 강하고 작은 피쳐맵으로 변환"
      ]
    },
    {
      "cell_type": "markdown",
      "metadata": {
        "id": "A5DTrUC5pbQG"
      },
      "source": [
        "### 4.5.2 배치 정규화\n",
        "\n",
        "CNN의 출력 앖을 평균이 0이고 분산이 1인 출력값으로 변환한다.\n",
        "\n",
        "파라미터 초기화에 덜 민감하게 만들고 학습률 튜닝을 단순화시킴"
      ]
    },
    {
      "cell_type": "markdown",
      "metadata": {
        "id": "tQq76pbBpqUw"
      },
      "source": [
        "### 4.5.3 NiN 연결\n",
        "\n",
        "NiN = network in network 연결은 kernel_size=1인 합성곱 커널을 사용\n",
        "\n",
        "채널 수를 줄이는데 유용하고, 적은 수의 파라미터로 비선형성을 추가할 수 있다."
      ]
    },
    {
      "cell_type": "markdown",
      "metadata": {
        "id": "OLmzIYRwp5cG"
      },
      "source": [
        "### 4.5.4 Residual connection\n",
        "\n",
        "DNN을 가능하게 한 일등 공신\n",
        "\n",
        "`출력 = con(입력) +입력`\n",
        "\n",
        "이때 이 연산이 가능하려면 `con(입력`과 `입력`의 크기가 같아야한다.\n",
        "\n",
        "이를 위해서 padding 사용!"
      ]
    }
  ]
}