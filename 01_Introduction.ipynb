{
  "nbformat": 4,
  "nbformat_minor": 0,
  "metadata": {
    "colab": {
      "name": "01_Introduction.ipynb",
      "provenance": [],
      "toc_visible": true,
      "authorship_tag": "ABX9TyP0puRjquIfBFEfc/BBV0tx",
      "include_colab_link": true
    },
    "kernelspec": {
      "name": "python3",
      "display_name": "Python 3"
    },
    "language_info": {
      "name": "python"
    },
    "accelerator": "GPU"
  },
  "cells": [
    {
      "cell_type": "markdown",
      "metadata": {
        "id": "view-in-github",
        "colab_type": "text"
      },
      "source": [
        "<a href=\"https://colab.research.google.com/github/junieberry/NLP-withPyTorch/blob/main/01_Introduction.ipynb\" target=\"_parent\"><img src=\"https://colab.research.google.com/assets/colab-badge.svg\" alt=\"Open In Colab\"/></a>"
      ]
    },
    {
      "cell_type": "markdown",
      "metadata": {
        "id": "2vVPzpSJMTrv"
      },
      "source": [
        "## 1.1 지도 학습\n",
        "\n",
        "- 샘플 (intput)\n",
        "- 타깃 (label)\n",
        "- 모델 (model)\n",
        "- 파라미터 (weight)\n",
        "- 예측 (prediction)\n",
        "- 손실 함수 (loss)\n",
        "\n",
        "지도 학습은 샘플 n개 전체의 누적 손실을 최소화하는 최적의 파라미터 혹은 가중치 w를 찾는 과정이다.\n",
        "\n",
        "\n"
      ]
    },
    {
      "cell_type": "markdown",
      "metadata": {
        "id": "s1jGKNP_NZx4"
      },
      "source": [
        "## 1.2 샘플과 타깃의 인코딩\n"
      ]
    },
    {
      "cell_type": "markdown",
      "metadata": {
        "id": "TW5p4wq55UI0"
      },
      "source": [
        "\n",
        "### 1.2.1 원-핫 표현 (one-hot representation)\n",
        "\n",
        "- 카운트 기반의 표현\n",
        "- 0 벡터에서 시작해 단어에 상응하는 원소를 1로 설정\n"
      ]
    },
    {
      "cell_type": "markdown",
      "metadata": {
        "id": "3RchcRCP5Vpp"
      },
      "source": [
        "\n",
        "### 1.2.2 TF 표현 (Term-Frequency)\n",
        "\n",
        "- 소속 단어의 원-핫 표현을 합해서 만든다.\n",
        "- Bag of Words (BoW)"
      ]
    },
    {
      "cell_type": "code",
      "metadata": {
        "colab": {
          "base_uri": "https://localhost:8080/",
          "height": 334
        },
        "id": "lKpiIyHqMShR",
        "outputId": "16478604-6903-4211-ffda-d75aae55c440"
      },
      "source": [
        "from sklearn.feature_extraction.text import CountVectorizer\n",
        "import seaborn as sns\n",
        "\n",
        "corpus = ['Time Flies like an arrow.', 'Fruit flies like a banana']\n",
        "\n",
        "## 기본값은 binary=Flase로 단어 등장 횟수를 기록한 표현을 만든다.\n",
        "one_hot_vectorizer = CountVectorizer(binary=True)\n",
        "## CountVectorizer는 희소 행렬을 반환하므로 toarray()로 밀집 행렬로 변환\n",
        "one_hot = one_hot_vectorizer.fit_transform(corpus).toarray()\n",
        "print('one_hot',one_hot)\n",
        "\n",
        "vocab  = one_hot_vectorizer.get_feature_names()\n",
        "print('vacab', vocab)\n",
        "sns.heatmap(one_hot, annot = True, cbar = False, xticklabels=vocab, yticklabels=['sentence 1','sentence 2'])"
      ],
      "execution_count": 1,
      "outputs": [
        {
          "output_type": "stream",
          "name": "stdout",
          "text": [
            "one_hot [[1 1 0 1 0 1 1]\n",
            " [0 0 1 1 1 1 0]]\n",
            "vacab ['an', 'arrow', 'banana', 'flies', 'fruit', 'like', 'time']\n"
          ]
        },
        {
          "output_type": "execute_result",
          "data": {
            "text/plain": [
              "<matplotlib.axes._subplots.AxesSubplot at 0x7f81243292d0>"
            ]
          },
          "metadata": {},
          "execution_count": 1
        },
        {
          "output_type": "display_data",
          "data": {
            "image/png": "[encoded data removed]",
            "text/plain": [
              "<Figure size 432x288 with 1 Axes>"
            ]
          },
          "metadata": {
            "needs_background": "light"
          }
        }
      ]
    },
    {
      "cell_type": "markdown",
      "metadata": {
        "id": "E-_vsqkFQjKO"
      },
      "source": [
        "### 1.2.3 TF-IDF 표현 (Term-Frequency-Inverse-Document-Frequency)\n",
        "때로는 흔한 단어에 중요한 정보가 담기지 않고, 희귀한 단어에 중요한 정보가 담길 때가 있다.\n",
        "IDF는 벡터 표현에서 흔한 토큰의 점수를 낮추고 드문 토큰의 점수를 높인다.\n",
        "\n",
        "`IDF(w) = log(N/n)`\n",
        "\n",
        "- w = 단어\n",
        "- N = 전체 문서의 수\n",
        "- n = w가 등장하는 문서의 수\n",
        "\n",
        "TF-IDF 점수는 TF와 IDF를 곱해서 나온다."
      ]
    },
    {
      "cell_type": "code",
      "metadata": {
        "colab": {
          "base_uri": "https://localhost:8080/",
          "height": 282
        },
        "id": "xl7GyBHvROVF",
        "outputId": "458b9f91-805d-403e-cc53-3339a578b837"
      },
      "source": [
        "from sklearn.feature_extraction.text import TfidfVectorizer\n",
        "import seaborn as sns\n",
        "\n",
        "tfidf_vectorizer = TfidfVectorizer()\n",
        "tfidf = tfidf_vectorizer.fit_transform(corpus).toarray()\n",
        "sns.heatmap(tfidf, annot=True, cbar=False, xticklabels=vocab, yticklabels=['sentence 1','sentence 2'])\n",
        "\n",
        "## TfidVectorizer은 IDF(w)=log(N+1/n+1)처럼 분모 분자에 1을 더해 분모가 0이 되는 상황을 방지한다.\n",
        "## 이렇게 계산한 값을 L2노름으로 정규화한다."
      ],
      "execution_count": 2,
      "outputs": [
        {
          "output_type": "execute_result",
          "data": {
            "text/plain": [
              "<matplotlib.axes._subplots.AxesSubplot at 0x7f8123a98710>"
            ]
          },
          "metadata": {},
          "execution_count": 2
        },
        {
          "output_type": "display_data",
          "data": {
            "image/png": "[encoded data removed]",
            "text/plain": [
              "<Figure size 432x288 with 1 Axes>"
            ]
          },
          "metadata": {
            "needs_background": "light"
          }
        }
      ]
    },
    {
      "cell_type": "markdown",
      "metadata": {
        "id": "VKCwLpRaRMEL"
      },
      "source": [
        "## 1.4 파이토치 기초"
      ]
    },
    {
      "cell_type": "code",
      "metadata": {
        "colab": {
          "base_uri": "https://localhost:8080/"
        },
        "id": "2ml152AcWMiI",
        "outputId": "37066f5f-85de-4596-d09c-ad0980c7e093"
      },
      "source": [
        "!pip3 install http://download.pytorch.org/whl/cu80/torch-0.3.0.post4-cp36-cp36m-linux_x86_64.whl\n",
        "!pip3 install torchvision"
      ],
      "execution_count": 3,
      "outputs": [
        {
          "output_type": "stream",
          "name": "stdout",
          "text": [
            "\u001b[31mERROR: torch-0.3.0.post4-cp36-cp36m-linux_x86_64.whl is not a supported wheel on this platform.\u001b[0m\n",
            "Requirement already satisfied: torchvision in /usr/local/lib/python3.7/dist-packages (0.10.0+cu102)\n",
            "Requirement already satisfied: numpy in /usr/local/lib/python3.7/dist-packages (from torchvision) (1.19.5)\n",
            "Requirement already satisfied: pillow>=5.3.0 in /usr/local/lib/python3.7/dist-packages (from torchvision) (7.1.2)\n",
            "Requirement already satisfied: torch==1.9.0 in /usr/local/lib/python3.7/dist-packages (from torchvision) (1.9.0+cu102)\n",
            "Requirement already satisfied: typing-extensions in /usr/local/lib/python3.7/dist-packages (from torch==1.9.0->torchvision) (3.7.4.3)\n"
          ]
        }
      ]
    },
    {
      "cell_type": "code",
      "metadata": {
        "id": "F3ovs19rXPKk"
      },
      "source": [
        "import torch"
      ],
      "execution_count": 4,
      "outputs": []
    },
    {
      "cell_type": "markdown",
      "metadata": {
        "id": "mGtNxuc3WqlC"
      },
      "source": [
        "### 1.4.2 텐서 만들기\n",
        "\n",
        "1. torch.rand() : 0과 1 사이의 숫자를 균등하게 생성\n",
        "\n",
        "2. torch.rand_like() : 사이즈를 튜플로 입력하지 않고 기존의 텐서로 정의\n",
        "\n",
        "3. torch.randn() : 평균이 0이고 표준편차가 1인 가우시안 정규분포를 이용해 생성\n",
        "\n",
        "4. torch.randn_like() :  사이즈를 튜플로 입력하지 않고 기존의 텐서로 정의\n",
        "\n",
        "5. torch.randint() : 주어진 범위 내의 정수를 균등하게 생성, 자료형은 torch.float32\n",
        "\n",
        "6. torch.randint_like() : 사이즈를 튜플로 입력하지 않고 기존의 텐서로 정의\n",
        "\n",
        "7. torch.randperm() : 주어진 범위 내의 정수를 랜덤하게 생성"
      ]
    },
    {
      "cell_type": "code",
      "metadata": {
        "id": "MimLixdXWpWa"
      },
      "source": [
        "def describe(x):\n",
        "  print('''\n",
        "  타입 : {0}\n",
        "  크기: {1}\n",
        "  값:\\n{2}\n",
        "  '''.format(x.type(), x.shape,x))"
      ],
      "execution_count": 5,
      "outputs": []
    },
    {
      "cell_type": "code",
      "metadata": {
        "colab": {
          "base_uri": "https://localhost:8080/"
        },
        "id": "_V2qb135XVCD",
        "outputId": "1c5b7291-fa22-4ee0-d76f-0a4eccf2d8db"
      },
      "source": [
        "## 차원을 지정해서 [0,1) 범위의 균등 분포에서 랜덤하게 샘플링\n",
        "describe(torch.Tensor(2,3))\n",
        "\n",
        "## 균등 분포\n",
        "describe(torch.rand(2,3))\n",
        "## 표준 정규 분포\n",
        "describe(torch.randn(2,3))\n",
        "\n",
        "\n",
        "## 동일 스칼라값으로 채운 텐서\n",
        "describe(torch.zeros(2,3))\n",
        "describe(torch.ones(2,3))\n",
        "\n",
        "## fill_()로 특정 값으로 채우기\n",
        "x = torch.ones(2,3)\n",
        "x.fill_(5)\n",
        "describe(x)"
      ],
      "execution_count": 6,
      "outputs": [
        {
          "output_type": "stream",
          "name": "stdout",
          "text": [
            "\n",
            "  타입 : torch.FloatTensor\n",
            "  크기: torch.Size([2, 3])\n",
            "  값:\n",
            "tensor([[1.0642e-28, 3.0907e-41, 3.7835e-44],\n",
            "        [0.0000e+00,        nan, 3.0907e-41]])\n",
            "  \n",
            "\n",
            "  타입 : torch.FloatTensor\n",
            "  크기: torch.Size([2, 3])\n",
            "  값:\n",
            "tensor([[0.2836, 0.3053, 0.5337],\n",
            "        [0.2268, 0.4685, 0.6609]])\n",
            "  \n",
            "\n",
            "  타입 : torch.FloatTensor\n",
            "  크기: torch.Size([2, 3])\n",
            "  값:\n",
            "tensor([[ 0.8793, -0.1563, -0.3929],\n",
            "        [-0.5178, -1.2870, -0.5046]])\n",
            "  \n",
            "\n",
            "  타입 : torch.FloatTensor\n",
            "  크기: torch.Size([2, 3])\n",
            "  값:\n",
            "tensor([[0., 0., 0.],\n",
            "        [0., 0., 0.]])\n",
            "  \n",
            "\n",
            "  타입 : torch.FloatTensor\n",
            "  크기: torch.Size([2, 3])\n",
            "  값:\n",
            "tensor([[1., 1., 1.],\n",
            "        [1., 1., 1.]])\n",
            "  \n",
            "\n",
            "  타입 : torch.FloatTensor\n",
            "  크기: torch.Size([2, 3])\n",
            "  값:\n",
            "tensor([[5., 5., 5.],\n",
            "        [5., 5., 5.]])\n",
            "  \n"
          ]
        }
      ]
    },
    {
      "cell_type": "markdown",
      "metadata": {
        "id": "d6-Tncw_vO5k"
      },
      "source": [
        "### 1.4.3 텐서 타입과 크기\n",
        "\n",
        "torch.Tensor의 기본 타입은 torch.FloatTensor이다.\n",
        "\n",
        "텐서 초기화 방법\n",
        "1. FloatTensor이나 LongTensor과 같은 특정 텐서 타입 생성자 직접 호출\n",
        "2. torch.tensor()와 dtype 매개변수 활용"
      ]
    },
    {
      "cell_type": "code",
      "metadata": {
        "colab": {
          "base_uri": "https://localhost:8080/"
        },
        "id": "Kjh6E3c8u-qN",
        "outputId": "87d37e66-a8ac-4cb4-eb7f-f44d90dfa0c0"
      },
      "source": [
        "x = torch.FloatTensor([[1,2,3],[4,5,6]])\n",
        "describe(x)\n",
        "\n",
        "x = x.long()\n",
        "describe(x)\n",
        "\n",
        "x = torch.tensor([[1,2,3],[4,5,6]], dtype=torch.int64)\n",
        "describe(x)\n",
        "\n",
        "x=x.float()\n",
        "describe(x)"
      ],
      "execution_count": 7,
      "outputs": [
        {
          "output_type": "stream",
          "name": "stdout",
          "text": [
            "\n",
            "  타입 : torch.FloatTensor\n",
            "  크기: torch.Size([2, 3])\n",
            "  값:\n",
            "tensor([[1., 2., 3.],\n",
            "        [4., 5., 6.]])\n",
            "  \n",
            "\n",
            "  타입 : torch.LongTensor\n",
            "  크기: torch.Size([2, 3])\n",
            "  값:\n",
            "tensor([[1, 2, 3],\n",
            "        [4, 5, 6]])\n",
            "  \n",
            "\n",
            "  타입 : torch.LongTensor\n",
            "  크기: torch.Size([2, 3])\n",
            "  값:\n",
            "tensor([[1, 2, 3],\n",
            "        [4, 5, 6]])\n",
            "  \n",
            "\n",
            "  타입 : torch.FloatTensor\n",
            "  크기: torch.Size([2, 3])\n",
            "  값:\n",
            "tensor([[1., 2., 3.],\n",
            "        [4., 5., 6.]])\n",
            "  \n"
          ]
        }
      ]
    },
    {
      "cell_type": "markdown",
      "metadata": {
        "id": "yvUTS0jov8u9"
      },
      "source": [
        "### 1.4.4 텐서 연산"
      ]
    },
    {
      "cell_type": "code",
      "metadata": {
        "colab": {
          "base_uri": "https://localhost:8080/"
        },
        "id": "kIbGA2UOwALx",
        "outputId": "c1ccddd7-a6e4-47d5-ae5e-904ac9d16128"
      },
      "source": [
        "x = torch.FloatTensor([[1,2,3],[4,5,6]])\n",
        "\n",
        "describe(torch.add(x,x))\n",
        "describe(x+x)"
      ],
      "execution_count": 8,
      "outputs": [
        {
          "output_type": "stream",
          "name": "stdout",
          "text": [
            "\n",
            "  타입 : torch.FloatTensor\n",
            "  크기: torch.Size([2, 3])\n",
            "  값:\n",
            "tensor([[ 2.,  4.,  6.],\n",
            "        [ 8., 10., 12.]])\n",
            "  \n",
            "\n",
            "  타입 : torch.FloatTensor\n",
            "  크기: torch.Size([2, 3])\n",
            "  값:\n",
            "tensor([[ 2.,  4.,  6.],\n",
            "        [ 8., 10., 12.]])\n",
            "  \n"
          ]
        }
      ]
    },
    {
      "cell_type": "code",
      "metadata": {
        "colab": {
          "base_uri": "https://localhost:8080/"
        },
        "id": "MWcuFPmHwm3E",
        "outputId": "ceb7e2d7-3aa8-4f29-8136-6d65a7c8f776"
      },
      "source": [
        "x = torch.arange(6)\n",
        "describe(x)\n",
        "\n",
        "\n",
        "## view()는 같은 데이터를 공유하는 새로운 텐서 생성\n",
        "x = x.view(2,3)\n",
        "describe(x)\n",
        "\n",
        "describe(torch.sum(x, dim=0))\n",
        "describe(torch.sum(x, dim=1))\n",
        "## 두번째, 세번째 매개변수 차원을 전치\n",
        "describe(torch.transpose(x,0,1))\n"
      ],
      "execution_count": 9,
      "outputs": [
        {
          "output_type": "stream",
          "name": "stdout",
          "text": [
            "\n",
            "  타입 : torch.LongTensor\n",
            "  크기: torch.Size([6])\n",
            "  값:\n",
            "tensor([0, 1, 2, 3, 4, 5])\n",
            "  \n",
            "\n",
            "  타입 : torch.LongTensor\n",
            "  크기: torch.Size([2, 3])\n",
            "  값:\n",
            "tensor([[0, 1, 2],\n",
            "        [3, 4, 5]])\n",
            "  \n",
            "\n",
            "  타입 : torch.LongTensor\n",
            "  크기: torch.Size([3])\n",
            "  값:\n",
            "tensor([3, 5, 7])\n",
            "  \n",
            "\n",
            "  타입 : torch.LongTensor\n",
            "  크기: torch.Size([2])\n",
            "  값:\n",
            "tensor([ 3, 12])\n",
            "  \n",
            "\n",
            "  타입 : torch.LongTensor\n",
            "  크기: torch.Size([3, 2])\n",
            "  값:\n",
            "tensor([[0, 3],\n",
            "        [1, 4],\n",
            "        [2, 5]])\n",
            "  \n"
          ]
        }
      ]
    },
    {
      "cell_type": "markdown",
      "metadata": {
        "id": "g_BrxecxxY1a"
      },
      "source": [
        "### 1.4.5 인덱싱, 슬라이싱, 연결"
      ]
    },
    {
      "cell_type": "markdown",
      "metadata": {
        "id": "qGC9PeyC0WRr"
      },
      "source": [
        "텐서 슬라이싱과 인덱싱"
      ]
    },
    {
      "cell_type": "code",
      "metadata": {
        "colab": {
          "base_uri": "https://localhost:8080/"
        },
        "id": "NbSqpMYnxbPQ",
        "outputId": "d202d9a7-56c7-49d2-9fae-847900fb8f95"
      },
      "source": [
        "x = torch.arange(6).view(2,3)\n",
        "\n",
        "describe(x)\n",
        "describe(x[:1,:2])\n",
        "describe(x[0,1])"
      ],
      "execution_count": 10,
      "outputs": [
        {
          "output_type": "stream",
          "name": "stdout",
          "text": [
            "\n",
            "  타입 : torch.LongTensor\n",
            "  크기: torch.Size([2, 3])\n",
            "  값:\n",
            "tensor([[0, 1, 2],\n",
            "        [3, 4, 5]])\n",
            "  \n",
            "\n",
            "  타입 : torch.LongTensor\n",
            "  크기: torch.Size([1, 2])\n",
            "  값:\n",
            "tensor([[0, 1]])\n",
            "  \n",
            "\n",
            "  타입 : torch.LongTensor\n",
            "  크기: torch.Size([])\n",
            "  값:\n",
            "1\n",
            "  \n"
          ]
        }
      ]
    },
    {
      "cell_type": "markdown",
      "metadata": {
        "id": "Lb7BgfId0Yrl"
      },
      "source": [
        "복잡한 인덱싱, 연속적이지 않은 텐서 인덱스 참조하기 ☹"
      ]
    },
    {
      "cell_type": "code",
      "metadata": {
        "colab": {
          "base_uri": "https://localhost:8080/"
        },
        "id": "cb6fiQUMyamb",
        "outputId": "dd2feb09-d265-4c14-b44c-328e631a1354"
      },
      "source": [
        "## index_select()가 반환하는 텐서는 dim 매개변수에 지정한 차원의 크기가 index 매개변수에 지정한 텐서의 길이와 같다.\n",
        "## 나머지 차원은 원본 텐서와 크기가 같다.\n",
        "describe(x)\n",
        "\n",
        "indices = torch.LongTensor([0,2])\n",
        "describe(torch.index_select(x, dim=1, index=indices))\n",
        "\n",
        "indices = torch.LongTensor([0,0])\n",
        "describe(torch.index_select(x, dim=0, index=indices))\n",
        "\n"
      ],
      "execution_count": 11,
      "outputs": [
        {
          "output_type": "stream",
          "name": "stdout",
          "text": [
            "\n",
            "  타입 : torch.LongTensor\n",
            "  크기: torch.Size([2, 3])\n",
            "  값:\n",
            "tensor([[0, 1, 2],\n",
            "        [3, 4, 5]])\n",
            "  \n",
            "\n",
            "  타입 : torch.LongTensor\n",
            "  크기: torch.Size([2, 2])\n",
            "  값:\n",
            "tensor([[0, 2],\n",
            "        [3, 5]])\n",
            "  \n",
            "\n",
            "  타입 : torch.LongTensor\n",
            "  크기: torch.Size([2, 3])\n",
            "  값:\n",
            "tensor([[0, 1, 2],\n",
            "        [0, 1, 2]])\n",
            "  \n"
          ]
        }
      ]
    },
    {
      "cell_type": "markdown",
      "metadata": {
        "id": "9FlIc9c52Etm"
      },
      "source": [
        "텐서 연결"
      ]
    },
    {
      "cell_type": "code",
      "metadata": {
        "colab": {
          "base_uri": "https://localhost:8080/"
        },
        "id": "NFiL9FEj2GMD",
        "outputId": "697545f0-d372-40dd-8cea-63b4d38ab25b"
      },
      "source": [
        "describe(x)\n",
        "\n",
        "describe(torch.cat([x,x], dim=0))\n",
        "describe(torch.cat([x,x], dim=1))\n",
        "describe(torch.stack([x,x]))"
      ],
      "execution_count": 12,
      "outputs": [
        {
          "output_type": "stream",
          "name": "stdout",
          "text": [
            "\n",
            "  타입 : torch.LongTensor\n",
            "  크기: torch.Size([2, 3])\n",
            "  값:\n",
            "tensor([[0, 1, 2],\n",
            "        [3, 4, 5]])\n",
            "  \n",
            "\n",
            "  타입 : torch.LongTensor\n",
            "  크기: torch.Size([4, 3])\n",
            "  값:\n",
            "tensor([[0, 1, 2],\n",
            "        [3, 4, 5],\n",
            "        [0, 1, 2],\n",
            "        [3, 4, 5]])\n",
            "  \n",
            "\n",
            "  타입 : torch.LongTensor\n",
            "  크기: torch.Size([2, 6])\n",
            "  값:\n",
            "tensor([[0, 1, 2, 0, 1, 2],\n",
            "        [3, 4, 5, 3, 4, 5]])\n",
            "  \n",
            "\n",
            "  타입 : torch.LongTensor\n",
            "  크기: torch.Size([2, 2, 3])\n",
            "  값:\n",
            "tensor([[[0, 1, 2],\n",
            "         [3, 4, 5]],\n",
            "\n",
            "        [[0, 1, 2],\n",
            "         [3, 4, 5]]])\n",
            "  \n"
          ]
        }
      ]
    },
    {
      "cell_type": "markdown",
      "metadata": {
        "id": "y57tl5fR2eDU"
      },
      "source": [
        "선형 대수 계산"
      ]
    },
    {
      "cell_type": "code",
      "metadata": {
        "colab": {
          "base_uri": "https://localhost:8080/"
        },
        "id": "nozoUU-E2gqM",
        "outputId": "0ab0de94-7e54-42d5-e1e6-cb93ab6733e5"
      },
      "source": [
        "x1 = torch.arange(6).view(2,3).long()\n",
        "x2 = torch.ones(3,2).long()\n",
        "x2[:,1] += 1\n",
        "\n",
        "describe(torch.mm(x1, x2))"
      ],
      "execution_count": 13,
      "outputs": [
        {
          "output_type": "stream",
          "name": "stdout",
          "text": [
            "\n",
            "  타입 : torch.LongTensor\n",
            "  크기: torch.Size([2, 2])\n",
            "  값:\n",
            "tensor([[ 3,  6],\n",
            "        [12, 24]])\n",
            "  \n"
          ]
        }
      ]
    },
    {
      "cell_type": "markdown",
      "metadata": {
        "id": "QutY4itb3Wqo"
      },
      "source": [
        "### 1.4.6 텐서와 계산 그래프\n"
      ]
    },
    {
      "cell_type": "markdown",
      "metadata": {
        "id": "759eUp0T3dTG"
      },
      "source": [
        "gradient 연산을 할 수 있는 텐서 만들기\n"
      ]
    },
    {
      "cell_type": "code",
      "metadata": {
        "colab": {
          "base_uri": "https://localhost:8080/"
        },
        "id": "-DJ-ZcGo3f4a",
        "outputId": "a22ed3ef-f0ed-41b7-f850-d43fdbfce8ed"
      },
      "source": [
        "## requires_grad=True로 텐서를 만들면 파이토치는 gradient 계산에 사용되는 부가 정보를 관리한다.\n",
        "## forward 계산을 기록한 후 계산이 끝나면 backward 계산을 수행한다.\n",
        "x = torch.ones(2,2, requires_grad=True)\n",
        "\n",
        "y = (x + 2) * (x + 5) + 3\n",
        "z = y.mean()\n",
        "z.backward()\n",
        "\n",
        "print(x.grad)"
      ],
      "execution_count": 14,
      "outputs": [
        {
          "output_type": "stream",
          "name": "stdout",
          "text": [
            "tensor([[2.2500, 2.2500],\n",
            "        [2.2500, 2.2500]])\n"
          ]
        }
      ]
    },
    {
      "cell_type": "markdown",
      "metadata": {
        "id": "gevDnY8N4J2s"
      },
      "source": [
        "### 1.4.7 CUDA 텐서\n",
        "CUDA API는 NVIDIA에서 만들어져 NVIDIA GPU에서만 사용 가능하다.\n",
        "CPU나 GPU와 같은 장치에 상관없이 동작하는 코드가 바람직하다.\n",
        "CUDA 텐서와 CPU 텐서를 같이 연산하려고 하면 오류가 발생한다."
      ]
    },
    {
      "cell_type": "code",
      "metadata": {
        "colab": {
          "base_uri": "https://localhost:8080/"
        },
        "id": "spP97xdY4L7a",
        "outputId": "245fe678-b986-48ad-c324-8f4ad7ea1ace"
      },
      "source": [
        "torch.cuda.is_available()"
      ],
      "execution_count": 15,
      "outputs": [
        {
          "output_type": "execute_result",
          "data": {
            "text/plain": [
              "True"
            ]
          },
          "metadata": {},
          "execution_count": 15
        }
      ]
    },
    {
      "cell_type": "code",
      "metadata": {
        "colab": {
          "base_uri": "https://localhost:8080/"
        },
        "id": "Zh0i-KI74mJO",
        "outputId": "b8a4ceb5-d074-4c97-a0ca-a7e0635ceb83"
      },
      "source": [
        "## 장치에 무관한 텐서 초기화\n",
        "device = torch.device(\"cuda\" if torch.cuda.is_available else \"CPU\")\n",
        "print(device)"
      ],
      "execution_count": 16,
      "outputs": [
        {
          "output_type": "stream",
          "name": "stdout",
          "text": [
            "cuda\n"
          ]
        }
      ]
    },
    {
      "cell_type": "code",
      "metadata": {
        "colab": {
          "base_uri": "https://localhost:8080/"
        },
        "id": "UblKUy5s4t-G",
        "outputId": "aba8f4a1-8616-4284-adde-5ec1574f1938"
      },
      "source": [
        "x = torch.rand(3,3).to(device)\n",
        "describe(x)"
      ],
      "execution_count": 17,
      "outputs": [
        {
          "output_type": "stream",
          "name": "stdout",
          "text": [
            "\n",
            "  타입 : torch.cuda.FloatTensor\n",
            "  크기: torch.Size([3, 3])\n",
            "  값:\n",
            "tensor([[0.1793, 0.0168, 0.4329],\n",
            "        [0.0443, 0.9500, 0.8933],\n",
            "        [0.6130, 0.4550, 0.0725]], device='cuda:0')\n",
            "  \n"
          ]
        }
      ]
    },
    {
      "cell_type": "markdown",
      "metadata": {
        "id": "Ex3ZI2CE5X7M"
      },
      "source": [
        "## 연습문제\n",
        "\n",
        "1. 2D 텐서 만들고 차원 0 위치에 크기가 1인 차원 추가\n",
        "2. 이전 텐서에서 추가한 차원 삭제\n",
        "3. 범위가 [3,7)이고 크기가 5x3인 랜덤한 텐서\n",
        "4. 정규 분표를 사용해 텐서\n",
        "5. torch.Tensor([1,1,1,0,1])에서 0이 아닌 원소의 인덱스 추출\n",
        "6. 크기가 (3,1)인 텐덤한 텐서 만들고 네 벌 복사\n",
        "7. torch.rand(3,4,5)와 torch.rand(3,5,4)의 배치 행렬 곱셈\n",
        "8. torch.rand(3,4,5)와 torch.rand(5,4)의 배치 행렬 곱셈"
      ]
    },
    {
      "cell_type": "code",
      "metadata": {
        "colab": {
          "base_uri": "https://localhost:8080/"
        },
        "id": "hp5pOKd95-Jq",
        "outputId": "5bbd2a3e-816a-4a53-a37f-cc305c1e9184"
      },
      "source": [
        "## 1 2D 텐서 만들고 차원 0 위치에 크기가 1인 차원 추가\n",
        "x = torch.Tensor(2,3)\n",
        "x.unsqueeze(0)\n",
        "\n",
        "describe(x)\n",
        "describe(x.unsqueeze(0))"
      ],
      "execution_count": 22,
      "outputs": [
        {
          "output_type": "stream",
          "name": "stdout",
          "text": [
            "\n",
            "  타입 : torch.FloatTensor\n",
            "  크기: torch.Size([2, 3])\n",
            "  값:\n",
            "tensor([[1.0050e+17, 3.0907e-41, 1.6395e-43],\n",
            "        [1.5414e-43, 1.6115e-43, 1.5835e-43]])\n",
            "  \n",
            "\n",
            "  타입 : torch.FloatTensor\n",
            "  크기: torch.Size([1, 2, 3])\n",
            "  값:\n",
            "tensor([[[1.0050e+17, 3.0907e-41, 1.6395e-43],\n",
            "         [1.5414e-43, 1.6115e-43, 1.5835e-43]]])\n",
            "  \n"
          ]
        }
      ]
    },
    {
      "cell_type": "code",
      "metadata": {
        "colab": {
          "base_uri": "https://localhost:8080/"
        },
        "id": "gRI1zKKY8W4o",
        "outputId": "e84a786b-4e39-4cc9-89e3-6fd50ae72af7"
      },
      "source": [
        "## 2 이전 텐서에서 추가한 차원 삭제\n",
        "x.squeeze(0)\n",
        "describe(x.squeeze(0))"
      ],
      "execution_count": 24,
      "outputs": [
        {
          "output_type": "stream",
          "name": "stdout",
          "text": [
            "\n",
            "  타입 : torch.FloatTensor\n",
            "  크기: torch.Size([2, 3])\n",
            "  값:\n",
            "tensor([[1.0050e+17, 3.0907e-41, 1.6395e-43],\n",
            "        [1.5414e-43, 1.6115e-43, 1.5835e-43]])\n",
            "  \n"
          ]
        }
      ]
    },
    {
      "cell_type": "code",
      "metadata": {
        "colab": {
          "base_uri": "https://localhost:8080/"
        },
        "id": "JSf0I1KX8iVU",
        "outputId": "d8218fa3-5e6f-45ce-eb8d-0b948a4966ae"
      },
      "source": [
        "## 3 범위가 [3,7)이고 크기가 5x3인 랜덤한 텐서\n",
        "x = torch.rand(5,3) * 4 + 3\n",
        "describe(x)"
      ],
      "execution_count": 26,
      "outputs": [
        {
          "output_type": "stream",
          "name": "stdout",
          "text": [
            "\n",
            "  타입 : torch.FloatTensor\n",
            "  크기: torch.Size([5, 3])\n",
            "  값:\n",
            "tensor([[3.4603, 3.4521, 4.8941],\n",
            "        [5.3457, 5.9331, 5.0711],\n",
            "        [4.4928, 4.2478, 4.8555],\n",
            "        [5.9414, 3.6699, 4.5867],\n",
            "        [3.7795, 5.3265, 5.5063]])\n",
            "  \n"
          ]
        }
      ]
    },
    {
      "cell_type": "code",
      "metadata": {
        "colab": {
          "base_uri": "https://localhost:8080/"
        },
        "id": "DMXyhUg09T7C",
        "outputId": "caecb1e1-4e14-4e7e-bf77-fe1b992ebec4"
      },
      "source": [
        "## 4 정규 분표를 사용해 텐서\n",
        "x = torch.randn(3,3)\n",
        "describe(x)"
      ],
      "execution_count": 27,
      "outputs": [
        {
          "output_type": "stream",
          "name": "stdout",
          "text": [
            "\n",
            "  타입 : torch.FloatTensor\n",
            "  크기: torch.Size([3, 3])\n",
            "  값:\n",
            "tensor([[ 1.0570,  0.4244,  0.5439],\n",
            "        [-0.1504, -0.7109, -0.1781],\n",
            "        [ 1.2347, -2.7667, -0.9831]])\n",
            "  \n"
          ]
        }
      ]
    },
    {
      "cell_type": "code",
      "metadata": {
        "colab": {
          "base_uri": "https://localhost:8080/"
        },
        "id": "673fOHEi9pTk",
        "outputId": "4a983f48-60d8-4525-f9ea-71ffbfe3bda7"
      },
      "source": [
        "## 5 torch.Tensor([1,1,1,0,1])에서 0이 아닌 원소의 인덱스 추출\n",
        "x = torch.Tensor([1,1,1,0,1])\n",
        "torch.nonzero(x)"
      ],
      "execution_count": 29,
      "outputs": [
        {
          "output_type": "execute_result",
          "data": {
            "text/plain": [
              "tensor([[0],\n",
              "        [1],\n",
              "        [2],\n",
              "        [4]])"
            ]
          },
          "metadata": {},
          "execution_count": 29
        }
      ]
    },
    {
      "cell_type": "code",
      "metadata": {
        "colab": {
          "base_uri": "https://localhost:8080/"
        },
        "id": "MNRh1elL9-UW",
        "outputId": "e82a7dac-6812-4c3c-ca77-f29419cc19c7"
      },
      "source": [
        "## 6 크기가 (3,1)인 텐덤한 텐서 만들고 네 벌 복사\n",
        "x = torch.rand(3,1)\n",
        "x = torch.cat([x,x,x,x],dim=0)\n",
        "describe(x)"
      ],
      "execution_count": 35,
      "outputs": [
        {
          "output_type": "stream",
          "name": "stdout",
          "text": [
            "\n",
            "  타입 : torch.FloatTensor\n",
            "  크기: torch.Size([12, 1])\n",
            "  값:\n",
            "tensor([[0.5495],\n",
            "        [0.2648],\n",
            "        [0.7196],\n",
            "        [0.5495],\n",
            "        [0.2648],\n",
            "        [0.7196],\n",
            "        [0.5495],\n",
            "        [0.2648],\n",
            "        [0.7196],\n",
            "        [0.5495],\n",
            "        [0.2648],\n",
            "        [0.7196]])\n",
            "  \n"
          ]
        }
      ]
    },
    {
      "cell_type": "code",
      "metadata": {
        "colab": {
          "base_uri": "https://localhost:8080/"
        },
        "id": "SW2IvIlg-sYR",
        "outputId": "919db4bf-f74f-4065-8100-6af356399afa"
      },
      "source": [
        "## 7 torch.rand(3,4,5)와 torch.rand(3,5,4)의 배치 행렬 곱셈\n",
        "a = torch.rand(3,4,5)\n",
        "b = torch.rand(3,5,4)\n",
        "describe(torch.bmm(a,b))"
      ],
      "execution_count": 36,
      "outputs": [
        {
          "output_type": "stream",
          "name": "stdout",
          "text": [
            "\n",
            "  타입 : torch.FloatTensor\n",
            "  크기: torch.Size([3, 4, 4])\n",
            "  값:\n",
            "tensor([[[1.6907, 0.8614, 1.3010, 1.3053],\n",
            "         [2.3719, 1.5668, 1.8407, 1.5305],\n",
            "         [1.7888, 0.9618, 1.1664, 0.8405],\n",
            "         [2.0621, 1.3095, 1.6687, 1.7336]],\n",
            "\n",
            "        [[0.3285, 0.6800, 0.7933, 0.3404],\n",
            "         [1.1972, 1.4047, 1.7739, 0.9832],\n",
            "         [0.6513, 0.8225, 1.1551, 0.5281],\n",
            "         [2.3002, 1.7028, 2.2996, 1.7471]],\n",
            "\n",
            "        [[1.4963, 0.6565, 0.8432, 1.0468],\n",
            "         [1.6434, 0.7311, 1.0708, 1.6783],\n",
            "         [1.5797, 0.8168, 1.1891, 1.5548],\n",
            "         [1.3183, 0.7111, 0.6745, 1.4058]]])\n",
            "  \n"
          ]
        }
      ]
    },
    {
      "cell_type": "code",
      "metadata": {
        "colab": {
          "base_uri": "https://localhost:8080/"
        },
        "id": "z_UnpgQ-_LEl",
        "outputId": "56c2e996-f3b5-47dc-c457-e4b8d2145667"
      },
      "source": [
        "## 8 torch.rand(3,4,5)와 torch.rand(5,4)의 배치 행렬 곱셈\n",
        "a = torch.rand(3,4,5)\n",
        "b = torch.rand(5,4)\n",
        "describe(torch.matmul(a,b))"
      ],
      "execution_count": 37,
      "outputs": [
        {
          "output_type": "stream",
          "name": "stdout",
          "text": [
            "\n",
            "  타입 : torch.FloatTensor\n",
            "  크기: torch.Size([3, 4, 4])\n",
            "  값:\n",
            "tensor([[[1.1190, 1.3416, 1.5929, 1.9103],\n",
            "         [1.0425, 0.9865, 1.2707, 1.4816],\n",
            "         [1.3091, 1.4546, 1.8106, 2.2325],\n",
            "         [0.6997, 0.5325, 0.9514, 0.8022]],\n",
            "\n",
            "        [[1.1056, 1.3991, 1.4238, 1.9423],\n",
            "         [1.1010, 1.0553, 1.4147, 1.5208],\n",
            "         [0.5224, 0.6108, 0.8469, 1.0616],\n",
            "         [1.3752, 1.4372, 1.4339, 1.7704]],\n",
            "\n",
            "        [[1.6468, 1.7940, 1.8865, 2.3548],\n",
            "         [1.2265, 1.6169, 1.3346, 2.0842],\n",
            "         [0.7076, 1.0053, 0.5585, 0.9898],\n",
            "         [1.0967, 1.3822, 1.6138, 2.0482]]])\n",
            "  \n"
          ]
        }
      ]
    }
  ]
}